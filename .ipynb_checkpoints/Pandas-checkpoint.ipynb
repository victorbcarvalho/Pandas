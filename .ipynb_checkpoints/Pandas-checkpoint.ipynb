{
 "cells": [
  {
   "cell_type": "code",
   "execution_count": 1,
   "id": "83a0b378",
   "metadata": {},
   "outputs": [],
   "source": [
    "import pandas as pd\n",
    "import numpy as np"
   ]
  },
  {
   "cell_type": "markdown",
   "id": "c94aa16a",
   "metadata": {},
   "source": [
    "# Criando Series"
   ]
  },
  {
   "cell_type": "code",
   "execution_count": 3,
   "id": "590fc6d5",
   "metadata": {},
   "outputs": [],
   "source": [
    "serie = pd.Series(data=[1,2,2,np.nan], index=['p','q','r','s'], name='Data')"
   ]
  },
  {
   "cell_type": "code",
   "execution_count": 4,
   "id": "215a56a2",
   "metadata": {},
   "outputs": [
    {
     "data": {
      "text/plain": [
       "p    1.0\n",
       "q    2.0\n",
       "r    2.0\n",
       "s    NaN\n",
       "Name: Data, dtype: float64"
      ]
     },
     "execution_count": 4,
     "metadata": {},
     "output_type": "execute_result"
    }
   ],
   "source": [
    "serie"
   ]
  },
  {
   "cell_type": "code",
   "execution_count": 5,
   "id": "7a80a4c3",
   "metadata": {},
   "outputs": [
    {
     "data": {
      "text/plain": [
       "Index(['p', 'q', 'r', 's'], dtype='object')"
      ]
     },
     "execution_count": 5,
     "metadata": {},
     "output_type": "execute_result"
    }
   ],
   "source": [
    "serie.index"
   ]
  },
  {
   "cell_type": "code",
   "execution_count": 6,
   "id": "2e7849c5",
   "metadata": {},
   "outputs": [
    {
     "data": {
      "text/plain": [
       "array([ 1.,  2.,  2., nan])"
      ]
     },
     "execution_count": 6,
     "metadata": {},
     "output_type": "execute_result"
    }
   ],
   "source": [
    "serie.values"
   ]
  },
  {
   "cell_type": "code",
   "execution_count": 7,
   "id": "346d54b3",
   "metadata": {},
   "outputs": [
    {
     "data": {
      "text/plain": [
       "'Data'"
      ]
     },
     "execution_count": 7,
     "metadata": {},
     "output_type": "execute_result"
    }
   ],
   "source": [
    "serie.name"
   ]
  },
  {
   "cell_type": "code",
   "execution_count": 8,
   "id": "cdeb8fa3",
   "metadata": {},
   "outputs": [
    {
     "data": {
      "text/plain": [
       "dtype('float64')"
      ]
     },
     "execution_count": 8,
     "metadata": {},
     "output_type": "execute_result"
    }
   ],
   "source": [
    "serie.dtype"
   ]
  },
  {
   "cell_type": "code",
   "execution_count": 9,
   "id": "d1ca8de3",
   "metadata": {},
   "outputs": [
    {
     "data": {
      "text/plain": [
       "(4,)"
      ]
     },
     "execution_count": 9,
     "metadata": {},
     "output_type": "execute_result"
    }
   ],
   "source": [
    "serie.shape"
   ]
  },
  {
   "cell_type": "code",
   "execution_count": 10,
   "id": "0171182a",
   "metadata": {},
   "outputs": [
    {
     "data": {
      "text/plain": [
       "4"
      ]
     },
     "execution_count": 10,
     "metadata": {},
     "output_type": "execute_result"
    }
   ],
   "source": [
    "serie.size"
   ]
  },
  {
   "cell_type": "code",
   "execution_count": 12,
   "id": "c5da65ad",
   "metadata": {
    "collapsed": true
   },
   "outputs": [
    {
     "ename": "AttributeError",
     "evalue": "'Series' object has no attribute 'itemsize'",
     "output_type": "error",
     "traceback": [
      "\u001b[1;31m---------------------------------------------------------------------------\u001b[0m",
      "\u001b[1;31mAttributeError\u001b[0m                            Traceback (most recent call last)",
      "\u001b[1;32m~\\AppData\\Local\\Temp/ipykernel_3524/1937457816.py\u001b[0m in \u001b[0;36m<module>\u001b[1;34m\u001b[0m\n\u001b[1;32m----> 1\u001b[1;33m \u001b[0mserie\u001b[0m\u001b[1;33m.\u001b[0m\u001b[0mitemsize\u001b[0m \u001b[1;31m# Series object has no atribute 'itemsize'\u001b[0m\u001b[1;33m\u001b[0m\u001b[1;33m\u001b[0m\u001b[0m\n\u001b[0m",
      "\u001b[1;32m~\\anaconda3\\lib\\site-packages\\pandas\\core\\generic.py\u001b[0m in \u001b[0;36m__getattr__\u001b[1;34m(self, name)\u001b[0m\n\u001b[0;32m   5485\u001b[0m         ):\n\u001b[0;32m   5486\u001b[0m             \u001b[1;32mreturn\u001b[0m \u001b[0mself\u001b[0m\u001b[1;33m[\u001b[0m\u001b[0mname\u001b[0m\u001b[1;33m]\u001b[0m\u001b[1;33m\u001b[0m\u001b[1;33m\u001b[0m\u001b[0m\n\u001b[1;32m-> 5487\u001b[1;33m         \u001b[1;32mreturn\u001b[0m \u001b[0mobject\u001b[0m\u001b[1;33m.\u001b[0m\u001b[0m__getattribute__\u001b[0m\u001b[1;33m(\u001b[0m\u001b[0mself\u001b[0m\u001b[1;33m,\u001b[0m \u001b[0mname\u001b[0m\u001b[1;33m)\u001b[0m\u001b[1;33m\u001b[0m\u001b[1;33m\u001b[0m\u001b[0m\n\u001b[0m\u001b[0;32m   5488\u001b[0m \u001b[1;33m\u001b[0m\u001b[0m\n\u001b[0;32m   5489\u001b[0m     \u001b[1;32mdef\u001b[0m \u001b[0m__setattr__\u001b[0m\u001b[1;33m(\u001b[0m\u001b[0mself\u001b[0m\u001b[1;33m,\u001b[0m \u001b[0mname\u001b[0m\u001b[1;33m:\u001b[0m \u001b[0mstr\u001b[0m\u001b[1;33m,\u001b[0m \u001b[0mvalue\u001b[0m\u001b[1;33m)\u001b[0m \u001b[1;33m->\u001b[0m \u001b[1;32mNone\u001b[0m\u001b[1;33m:\u001b[0m\u001b[1;33m\u001b[0m\u001b[1;33m\u001b[0m\u001b[0m\n",
      "\u001b[1;31mAttributeError\u001b[0m: 'Series' object has no attribute 'itemsize'"
     ]
    }
   ],
   "source": [
    "serie.itemsize # Series object has no atribute 'itemsize'"
   ]
  },
  {
   "cell_type": "markdown",
   "id": "2829f7ac",
   "metadata": {},
   "source": [
    "## criando series por objectos distintos"
   ]
  },
  {
   "cell_type": "code",
   "execution_count": 13,
   "id": "51c3775e",
   "metadata": {},
   "outputs": [
    {
     "data": {
      "text/plain": [
       "0    a\n",
       "1    b\n",
       "2    c\n",
       "dtype: object"
      ]
     },
     "execution_count": 13,
     "metadata": {},
     "output_type": "execute_result"
    }
   ],
   "source": [
    "por_lista = [\"a\",\"b\",\"c\"]\n",
    "serie_lista = pd.Series(data=por_lista)\n",
    "serie_lista"
   ]
  },
  {
   "cell_type": "code",
   "execution_count": 14,
   "id": "54e93962",
   "metadata": {},
   "outputs": [
    {
     "data": {
      "text/plain": [
       "0    1\n",
       "1    2\n",
       "2    3\n",
       "dtype: int32"
      ]
     },
     "execution_count": 14,
     "metadata": {},
     "output_type": "execute_result"
    }
   ],
   "source": [
    "por_array = np.arange(1,4)\n",
    "serie_array = pd.Series(data=por_array)\n",
    "serie_array"
   ]
  },
  {
   "cell_type": "code",
   "execution_count": 15,
   "id": "6cca98f6",
   "metadata": {},
   "outputs": [
    {
     "data": {
      "text/plain": [
       "a    10\n",
       "b    20\n",
       "c    30\n",
       "dtype: int64"
      ]
     },
     "execution_count": 15,
     "metadata": {},
     "output_type": "execute_result"
    }
   ],
   "source": [
    "por_dicionario = {\"a\":10,\"b\":20,\"c\":30}\n",
    "serie_dicionario = pd.Series(data=por_dicionario)\n",
    "serie_dicionario"
   ]
  },
  {
   "cell_type": "markdown",
   "id": "37697da2",
   "metadata": {},
   "source": [
    "# Indexação"
   ]
  },
  {
   "cell_type": "code",
   "execution_count": 16,
   "id": "f6675bba",
   "metadata": {},
   "outputs": [
    {
     "data": {
      "text/plain": [
       "a    10\n",
       "b    20\n",
       "c    30\n",
       "d    40\n",
       "e    50\n",
       "dtype: int64"
      ]
     },
     "execution_count": 16,
     "metadata": {},
     "output_type": "execute_result"
    }
   ],
   "source": [
    "dicionario = {\"a\":10, \"b\":20, \"c\":30, \"d\":40, \"e\":50}\n",
    "series_dicionario = pd.Series(data=dicionario)\n",
    "series_dicionario"
   ]
  },
  {
   "cell_type": "code",
   "execution_count": 17,
   "id": "81e13243",
   "metadata": {},
   "outputs": [
    {
     "data": {
      "text/plain": [
       "20"
      ]
     },
     "execution_count": 17,
     "metadata": {},
     "output_type": "execute_result"
    }
   ],
   "source": [
    "series_dicionario[1]"
   ]
  },
  {
   "cell_type": "code",
   "execution_count": 18,
   "id": "f6fe95b2",
   "metadata": {},
   "outputs": [
    {
     "data": {
      "text/plain": [
       "b    20\n",
       "c    30\n",
       "dtype: int64"
      ]
     },
     "execution_count": 18,
     "metadata": {},
     "output_type": "execute_result"
    }
   ],
   "source": [
    "series_dicionario[[1,2]]"
   ]
  },
  {
   "cell_type": "code",
   "execution_count": 19,
   "id": "caf43946",
   "metadata": {},
   "outputs": [
    {
     "data": {
      "text/plain": [
       "20"
      ]
     },
     "execution_count": 19,
     "metadata": {},
     "output_type": "execute_result"
    }
   ],
   "source": [
    "series_dicionario[\"b\"]"
   ]
  },
  {
   "cell_type": "code",
   "execution_count": 20,
   "id": "9fd4473e",
   "metadata": {},
   "outputs": [
    {
     "data": {
      "text/plain": [
       "a    10\n",
       "c    30\n",
       "e    50\n",
       "dtype: int64"
      ]
     },
     "execution_count": 20,
     "metadata": {},
     "output_type": "execute_result"
    }
   ],
   "source": [
    "series_dicionario[[\"a\",\"c\",\"e\"]]"
   ]
  },
  {
   "cell_type": "code",
   "execution_count": 21,
   "id": "f2f99ff8",
   "metadata": {},
   "outputs": [
    {
     "data": {
      "text/plain": [
       "3    1\n",
       "2    2\n",
       "1    3\n",
       "dtype: int64"
      ]
     },
     "execution_count": 21,
     "metadata": {},
     "output_type": "execute_result"
    }
   ],
   "source": [
    "serie_complexa = pd.Series(data=[1,2,3], index=[3,2,1])\n",
    "serie_complexa"
   ]
  },
  {
   "cell_type": "code",
   "execution_count": 23,
   "id": "c18c7742",
   "metadata": {
    "collapsed": true
   },
   "outputs": [
    {
     "ename": "KeyError",
     "evalue": "0",
     "output_type": "error",
     "traceback": [
      "\u001b[1;31m---------------------------------------------------------------------------\u001b[0m",
      "\u001b[1;31mKeyError\u001b[0m                                  Traceback (most recent call last)",
      "\u001b[1;32m~\\anaconda3\\lib\\site-packages\\pandas\\core\\indexes\\base.py\u001b[0m in \u001b[0;36mget_loc\u001b[1;34m(self, key, method, tolerance)\u001b[0m\n\u001b[0;32m   3360\u001b[0m             \u001b[1;32mtry\u001b[0m\u001b[1;33m:\u001b[0m\u001b[1;33m\u001b[0m\u001b[1;33m\u001b[0m\u001b[0m\n\u001b[1;32m-> 3361\u001b[1;33m                 \u001b[1;32mreturn\u001b[0m \u001b[0mself\u001b[0m\u001b[1;33m.\u001b[0m\u001b[0m_engine\u001b[0m\u001b[1;33m.\u001b[0m\u001b[0mget_loc\u001b[0m\u001b[1;33m(\u001b[0m\u001b[0mcasted_key\u001b[0m\u001b[1;33m)\u001b[0m\u001b[1;33m\u001b[0m\u001b[1;33m\u001b[0m\u001b[0m\n\u001b[0m\u001b[0;32m   3362\u001b[0m             \u001b[1;32mexcept\u001b[0m \u001b[0mKeyError\u001b[0m \u001b[1;32mas\u001b[0m \u001b[0merr\u001b[0m\u001b[1;33m:\u001b[0m\u001b[1;33m\u001b[0m\u001b[1;33m\u001b[0m\u001b[0m\n",
      "\u001b[1;32m~\\anaconda3\\lib\\site-packages\\pandas\\_libs\\index.pyx\u001b[0m in \u001b[0;36mpandas._libs.index.IndexEngine.get_loc\u001b[1;34m()\u001b[0m\n",
      "\u001b[1;32m~\\anaconda3\\lib\\site-packages\\pandas\\_libs\\index.pyx\u001b[0m in \u001b[0;36mpandas._libs.index.IndexEngine.get_loc\u001b[1;34m()\u001b[0m\n",
      "\u001b[1;32mpandas\\_libs\\hashtable_class_helper.pxi\u001b[0m in \u001b[0;36mpandas._libs.hashtable.Int64HashTable.get_item\u001b[1;34m()\u001b[0m\n",
      "\u001b[1;32mpandas\\_libs\\hashtable_class_helper.pxi\u001b[0m in \u001b[0;36mpandas._libs.hashtable.Int64HashTable.get_item\u001b[1;34m()\u001b[0m\n",
      "\u001b[1;31mKeyError\u001b[0m: 0",
      "\nThe above exception was the direct cause of the following exception:\n",
      "\u001b[1;31mKeyError\u001b[0m                                  Traceback (most recent call last)",
      "\u001b[1;32m~\\AppData\\Local\\Temp/ipykernel_3524/1530390606.py\u001b[0m in \u001b[0;36m<module>\u001b[1;34m\u001b[0m\n\u001b[1;32m----> 1\u001b[1;33m \u001b[0mserie_complexa\u001b[0m\u001b[1;33m[\u001b[0m\u001b[1;36m0\u001b[0m\u001b[1;33m]\u001b[0m \u001b[1;31m# KeyError\u001b[0m\u001b[1;33m\u001b[0m\u001b[1;33m\u001b[0m\u001b[0m\n\u001b[0m",
      "\u001b[1;32m~\\anaconda3\\lib\\site-packages\\pandas\\core\\series.py\u001b[0m in \u001b[0;36m__getitem__\u001b[1;34m(self, key)\u001b[0m\n\u001b[0;32m    940\u001b[0m \u001b[1;33m\u001b[0m\u001b[0m\n\u001b[0;32m    941\u001b[0m         \u001b[1;32melif\u001b[0m \u001b[0mkey_is_scalar\u001b[0m\u001b[1;33m:\u001b[0m\u001b[1;33m\u001b[0m\u001b[1;33m\u001b[0m\u001b[0m\n\u001b[1;32m--> 942\u001b[1;33m             \u001b[1;32mreturn\u001b[0m \u001b[0mself\u001b[0m\u001b[1;33m.\u001b[0m\u001b[0m_get_value\u001b[0m\u001b[1;33m(\u001b[0m\u001b[0mkey\u001b[0m\u001b[1;33m)\u001b[0m\u001b[1;33m\u001b[0m\u001b[1;33m\u001b[0m\u001b[0m\n\u001b[0m\u001b[0;32m    943\u001b[0m \u001b[1;33m\u001b[0m\u001b[0m\n\u001b[0;32m    944\u001b[0m         \u001b[1;32mif\u001b[0m \u001b[0mis_hashable\u001b[0m\u001b[1;33m(\u001b[0m\u001b[0mkey\u001b[0m\u001b[1;33m)\u001b[0m\u001b[1;33m:\u001b[0m\u001b[1;33m\u001b[0m\u001b[1;33m\u001b[0m\u001b[0m\n",
      "\u001b[1;32m~\\anaconda3\\lib\\site-packages\\pandas\\core\\series.py\u001b[0m in \u001b[0;36m_get_value\u001b[1;34m(self, label, takeable)\u001b[0m\n\u001b[0;32m   1049\u001b[0m \u001b[1;33m\u001b[0m\u001b[0m\n\u001b[0;32m   1050\u001b[0m         \u001b[1;31m# Similar to Index.get_value, but we do not fall back to positional\u001b[0m\u001b[1;33m\u001b[0m\u001b[1;33m\u001b[0m\u001b[0m\n\u001b[1;32m-> 1051\u001b[1;33m         \u001b[0mloc\u001b[0m \u001b[1;33m=\u001b[0m \u001b[0mself\u001b[0m\u001b[1;33m.\u001b[0m\u001b[0mindex\u001b[0m\u001b[1;33m.\u001b[0m\u001b[0mget_loc\u001b[0m\u001b[1;33m(\u001b[0m\u001b[0mlabel\u001b[0m\u001b[1;33m)\u001b[0m\u001b[1;33m\u001b[0m\u001b[1;33m\u001b[0m\u001b[0m\n\u001b[0m\u001b[0;32m   1052\u001b[0m         \u001b[1;32mreturn\u001b[0m \u001b[0mself\u001b[0m\u001b[1;33m.\u001b[0m\u001b[0mindex\u001b[0m\u001b[1;33m.\u001b[0m\u001b[0m_get_values_for_loc\u001b[0m\u001b[1;33m(\u001b[0m\u001b[0mself\u001b[0m\u001b[1;33m,\u001b[0m \u001b[0mloc\u001b[0m\u001b[1;33m,\u001b[0m \u001b[0mlabel\u001b[0m\u001b[1;33m)\u001b[0m\u001b[1;33m\u001b[0m\u001b[1;33m\u001b[0m\u001b[0m\n\u001b[0;32m   1053\u001b[0m \u001b[1;33m\u001b[0m\u001b[0m\n",
      "\u001b[1;32m~\\anaconda3\\lib\\site-packages\\pandas\\core\\indexes\\base.py\u001b[0m in \u001b[0;36mget_loc\u001b[1;34m(self, key, method, tolerance)\u001b[0m\n\u001b[0;32m   3361\u001b[0m                 \u001b[1;32mreturn\u001b[0m \u001b[0mself\u001b[0m\u001b[1;33m.\u001b[0m\u001b[0m_engine\u001b[0m\u001b[1;33m.\u001b[0m\u001b[0mget_loc\u001b[0m\u001b[1;33m(\u001b[0m\u001b[0mcasted_key\u001b[0m\u001b[1;33m)\u001b[0m\u001b[1;33m\u001b[0m\u001b[1;33m\u001b[0m\u001b[0m\n\u001b[0;32m   3362\u001b[0m             \u001b[1;32mexcept\u001b[0m \u001b[0mKeyError\u001b[0m \u001b[1;32mas\u001b[0m \u001b[0merr\u001b[0m\u001b[1;33m:\u001b[0m\u001b[1;33m\u001b[0m\u001b[1;33m\u001b[0m\u001b[0m\n\u001b[1;32m-> 3363\u001b[1;33m                 \u001b[1;32mraise\u001b[0m \u001b[0mKeyError\u001b[0m\u001b[1;33m(\u001b[0m\u001b[0mkey\u001b[0m\u001b[1;33m)\u001b[0m \u001b[1;32mfrom\u001b[0m \u001b[0merr\u001b[0m\u001b[1;33m\u001b[0m\u001b[1;33m\u001b[0m\u001b[0m\n\u001b[0m\u001b[0;32m   3364\u001b[0m \u001b[1;33m\u001b[0m\u001b[0m\n\u001b[0;32m   3365\u001b[0m         \u001b[1;32mif\u001b[0m \u001b[0mis_scalar\u001b[0m\u001b[1;33m(\u001b[0m\u001b[0mkey\u001b[0m\u001b[1;33m)\u001b[0m \u001b[1;32mand\u001b[0m \u001b[0misna\u001b[0m\u001b[1;33m(\u001b[0m\u001b[0mkey\u001b[0m\u001b[1;33m)\u001b[0m \u001b[1;32mand\u001b[0m \u001b[1;32mnot\u001b[0m \u001b[0mself\u001b[0m\u001b[1;33m.\u001b[0m\u001b[0mhasnans\u001b[0m\u001b[1;33m:\u001b[0m\u001b[1;33m\u001b[0m\u001b[1;33m\u001b[0m\u001b[0m\n",
      "\u001b[1;31mKeyError\u001b[0m: 0"
     ]
    }
   ],
   "source": [
    "serie_complexa[0] # KeyError"
   ]
  },
  {
   "cell_type": "code",
   "execution_count": 24,
   "id": "48335f28",
   "metadata": {},
   "outputs": [
    {
     "data": {
      "text/plain": [
       "1"
      ]
     },
     "execution_count": 24,
     "metadata": {},
     "output_type": "execute_result"
    }
   ],
   "source": [
    "serie_complexa[3]"
   ]
  },
  {
   "cell_type": "code",
   "execution_count": 25,
   "id": "1e61f5bb",
   "metadata": {},
   "outputs": [
    {
     "data": {
      "text/plain": [
       "1"
      ]
     },
     "execution_count": 25,
     "metadata": {},
     "output_type": "execute_result"
    }
   ],
   "source": [
    "serie_complexa.iloc[0]"
   ]
  },
  {
   "cell_type": "code",
   "execution_count": 29,
   "id": "3d7c18b1",
   "metadata": {},
   "outputs": [
    {
     "data": {
      "text/plain": [
       "3    1\n",
       "1    3\n",
       "dtype: int64"
      ]
     },
     "execution_count": 29,
     "metadata": {},
     "output_type": "execute_result"
    }
   ],
   "source": [
    "serie_complexa.iloc[[0,2]]"
   ]
  },
  {
   "cell_type": "code",
   "execution_count": 30,
   "id": "3a2ef10e",
   "metadata": {},
   "outputs": [
    {
     "data": {
      "text/plain": [
       "3    1\n",
       "2    2\n",
       "1    3\n",
       "dtype: int64"
      ]
     },
     "execution_count": 30,
     "metadata": {},
     "output_type": "execute_result"
    }
   ],
   "source": [
    "serie_complexa.iloc[:]"
   ]
  },
  {
   "cell_type": "code",
   "execution_count": 31,
   "id": "d08420b4",
   "metadata": {},
   "outputs": [
    {
     "data": {
      "text/plain": [
       "a    10\n",
       "b    20\n",
       "c    30\n",
       "d    40\n",
       "e    50\n",
       "dtype: int64"
      ]
     },
     "execution_count": 31,
     "metadata": {},
     "output_type": "execute_result"
    }
   ],
   "source": [
    "series_dicionario"
   ]
  },
  {
   "cell_type": "code",
   "execution_count": 32,
   "id": "29017583",
   "metadata": {},
   "outputs": [
    {
     "data": {
      "text/plain": [
       "b    20\n",
       "c    30\n",
       "d    40\n",
       "e    50\n",
       "dtype: int64"
      ]
     },
     "execution_count": 32,
     "metadata": {},
     "output_type": "execute_result"
    }
   ],
   "source": [
    "series_dicionario[\"b\":]"
   ]
  },
  {
   "cell_type": "code",
   "execution_count": 33,
   "id": "401a4461",
   "metadata": {},
   "outputs": [
    {
     "data": {
      "text/plain": [
       "b    20\n",
       "c    30\n",
       "dtype: int64"
      ]
     },
     "execution_count": 33,
     "metadata": {},
     "output_type": "execute_result"
    }
   ],
   "source": [
    "series_dicionario[\"b\":\"c\"]"
   ]
  },
  {
   "cell_type": "code",
   "execution_count": 36,
   "id": "1e810c5d",
   "metadata": {},
   "outputs": [
    {
     "data": {
      "text/plain": [
       "e    50\n",
       "dtype: int64"
      ]
     },
     "execution_count": 36,
     "metadata": {},
     "output_type": "execute_result"
    }
   ],
   "source": [
    "series_dicionario[\"e\":\"d\":-2]"
   ]
  },
  {
   "cell_type": "code",
   "execution_count": 37,
   "id": "52afc184",
   "metadata": {},
   "outputs": [
    {
     "name": "stdout",
     "output_type": "stream",
     "text": [
      "a    10\n",
      "b    20\n",
      "c    30\n",
      "d    40\n",
      "e    50\n",
      "dtype: int64\n",
      "a    10\n",
      "b    20\n",
      "c    25\n",
      "d    25\n",
      "e    50\n",
      "dtype: int64\n"
     ]
    }
   ],
   "source": [
    "print(series_dicionario)\n",
    "series_dicionario[\"c\":\"d\"] = 25\n",
    "print(series_dicionario)"
   ]
  },
  {
   "cell_type": "code",
   "execution_count": 38,
   "id": "8fafba44",
   "metadata": {},
   "outputs": [],
   "source": [
    "series_dicionario.iloc[[0,1]] = 11"
   ]
  },
  {
   "cell_type": "code",
   "execution_count": 39,
   "id": "48c3d1bb",
   "metadata": {},
   "outputs": [
    {
     "data": {
      "text/plain": [
       "a    11\n",
       "b    11\n",
       "c    25\n",
       "d    25\n",
       "e    50\n",
       "dtype: int64"
      ]
     },
     "execution_count": 39,
     "metadata": {},
     "output_type": "execute_result"
    }
   ],
   "source": [
    "series_dicionario"
   ]
  },
  {
   "cell_type": "code",
   "execution_count": 42,
   "id": "49286142",
   "metadata": {},
   "outputs": [],
   "source": [
    "por_dicionario2 = {'a': 10, 'b': 20, 'c': 30}"
   ]
  },
  {
   "cell_type": "code",
   "execution_count": 43,
   "id": "1c53bcff",
   "metadata": {},
   "outputs": [
    {
     "data": {
      "text/plain": [
       "a    10\n",
       "b    20\n",
       "c    30\n",
       "dtype: int64"
      ]
     },
     "execution_count": 43,
     "metadata": {},
     "output_type": "execute_result"
    }
   ],
   "source": [
    "serie_dicionario2 = pd.Series(data=por_dicionario2)\n",
    "serie_dicionario2"
   ]
  },
  {
   "cell_type": "code",
   "execution_count": 46,
   "id": "4434a7a6",
   "metadata": {},
   "outputs": [
    {
     "name": "stdout",
     "output_type": "stream",
     "text": [
      "b    21\n",
      "c    21\n",
      "dtype: int64\n"
     ]
    },
    {
     "data": {
      "text/plain": [
       "a    10\n",
       "b    21\n",
       "c    21\n",
       "dtype: int64"
      ]
     },
     "execution_count": 46,
     "metadata": {},
     "output_type": "execute_result"
    }
   ],
   "source": [
    "sl = serie_dicionario2[\"b\":\"c\"]\n",
    "sl[:] = 21\n",
    "print(sl, end=\"\\n\")\n",
    "serie_dicionario2"
   ]
  },
  {
   "cell_type": "code",
   "execution_count": 47,
   "id": "507ef322",
   "metadata": {},
   "outputs": [
    {
     "data": {
      "text/plain": [
       "a    10.0\n",
       "b    21.0\n",
       "c     inf\n",
       "dtype: float64"
      ]
     },
     "execution_count": 47,
     "metadata": {},
     "output_type": "execute_result"
    }
   ],
   "source": [
    "def muda_serie(serie):\n",
    "    serie.iloc[-1] = np.inf\n",
    "    \n",
    "muda_serie(serie_dicionario2)\n",
    "serie_dicionario2"
   ]
  },
  {
   "cell_type": "markdown",
   "id": "f9fc9a98",
   "metadata": {},
   "source": [
    " # Operações"
   ]
  },
  {
   "cell_type": "code",
   "execution_count": 49,
   "id": "68e6bc2b",
   "metadata": {},
   "outputs": [],
   "source": [
    "np.random.seed(42)\n",
    "\n",
    "serie1 = pd.Series(data=np.random.normal(size=5))\n",
    "serie2 = pd.Series(data=np.random.normal(size=5), index=np.arange(4,-1,-1))\n",
    "serie3 = pd.Series(data=np.random.normal(size=5), index=np.arange(10,15))\n",
    "serie4 = pd.Series(data=np.random.normal(size=5), index=np.arange(4,9))"
   ]
  },
  {
   "cell_type": "code",
   "execution_count": 50,
   "id": "43f36a8d",
   "metadata": {},
   "outputs": [
    {
     "name": "stdout",
     "output_type": "stream",
     "text": [
      "0    0.496714\n",
      "1   -0.138264\n",
      "2    0.647689\n",
      "3    1.523030\n",
      "4   -0.234153\n",
      "dtype: float64 4   -0.234137\n",
      "3    1.579213\n",
      "2    0.767435\n",
      "1   -0.469474\n",
      "0    0.542560\n",
      "dtype: float64 10   -0.463418\n",
      "11   -0.465730\n",
      "12    0.241962\n",
      "13   -1.913280\n",
      "14   -1.724918\n",
      "dtype: float64 4   -0.562288\n",
      "5   -1.012831\n",
      "6    0.314247\n",
      "7   -0.908024\n",
      "8   -1.412304\n",
      "dtype: float64\n"
     ]
    }
   ],
   "source": [
    "print(serie1, serie2, serie3, serie4)"
   ]
  },
  {
   "cell_type": "code",
   "execution_count": 51,
   "id": "e2d33c5a",
   "metadata": {},
   "outputs": [
    {
     "data": {
      "text/plain": [
       "0    NaN\n",
       "1    NaN\n",
       "2    NaN\n",
       "3    NaN\n",
       "4    NaN\n",
       "10   NaN\n",
       "11   NaN\n",
       "12   NaN\n",
       "13   NaN\n",
       "14   NaN\n",
       "dtype: float64"
      ]
     },
     "execution_count": 51,
     "metadata": {},
     "output_type": "execute_result"
    }
   ],
   "source": [
    "serie1 + serie3 # NaN + numero"
   ]
  },
  {
   "cell_type": "code",
   "execution_count": 52,
   "id": "aae51954",
   "metadata": {},
   "outputs": [
    {
     "data": {
      "text/plain": [
       "nan"
      ]
     },
     "execution_count": 52,
     "metadata": {},
     "output_type": "execute_result"
    }
   ],
   "source": [
    "np.nan + 3"
   ]
  },
  {
   "cell_type": "code",
   "execution_count": 54,
   "id": "18ffa3fd",
   "metadata": {},
   "outputs": [
    {
     "data": {
      "text/plain": [
       "0         NaN\n",
       "1         NaN\n",
       "2         NaN\n",
       "3         NaN\n",
       "4   -0.796441\n",
       "5         NaN\n",
       "6         NaN\n",
       "7         NaN\n",
       "8         NaN\n",
       "dtype: float64"
      ]
     },
     "execution_count": 54,
     "metadata": {},
     "output_type": "execute_result"
    }
   ],
   "source": [
    "serie1 + serie4 # soma efetiada apenas no index comum entre as duas series"
   ]
  },
  {
   "cell_type": "markdown",
   "id": "80a1b1c8",
   "metadata": {},
   "source": [
    "## Soma"
   ]
  },
  {
   "cell_type": "code",
   "execution_count": 55,
   "id": "75c3e0c6",
   "metadata": {},
   "outputs": [
    {
     "data": {
      "text/plain": [
       "0    1.039274\n",
       "1   -0.607739\n",
       "2    1.415123\n",
       "3    3.102243\n",
       "4   -0.468290\n",
       "dtype: float64"
      ]
     },
     "execution_count": 55,
     "metadata": {},
     "output_type": "execute_result"
    }
   ],
   "source": [
    "serie1 + serie2 # Soma efetuada entre os index de mesmo nome"
   ]
  },
  {
   "cell_type": "code",
   "execution_count": 56,
   "id": "3c8af9a8",
   "metadata": {},
   "outputs": [
    {
     "data": {
      "text/plain": [
       "0    2.496714\n",
       "1    1.861736\n",
       "2    2.647689\n",
       "3    3.523030\n",
       "4    1.765847\n",
       "dtype: float64"
      ]
     },
     "execution_count": 56,
     "metadata": {},
     "output_type": "execute_result"
    }
   ],
   "source": [
    "serie1 + 2"
   ]
  },
  {
   "cell_type": "code",
   "execution_count": 57,
   "id": "a759fa76",
   "metadata": {},
   "outputs": [
    {
     "data": {
      "text/plain": [
       "0    1.039274\n",
       "1   -0.607739\n",
       "2    1.415123\n",
       "3    3.102243\n",
       "4   -0.468290\n",
       "dtype: float64"
      ]
     },
     "execution_count": 57,
     "metadata": {},
     "output_type": "execute_result"
    }
   ],
   "source": [
    "serie1.add(serie2)"
   ]
  },
  {
   "cell_type": "code",
   "execution_count": 58,
   "id": "95ed5c2b",
   "metadata": {},
   "outputs": [
    {
     "data": {
      "text/plain": [
       "0    1.496714\n",
       "1    1.861736\n",
       "2    3.647689\n",
       "3    5.523030\n",
       "4    4.765847\n",
       "dtype: float64"
      ]
     },
     "execution_count": 58,
     "metadata": {},
     "output_type": "execute_result"
    }
   ],
   "source": [
    "serie1.add(np.array([1,2,3,4,5])) # pode ser array, list ou tupla"
   ]
  },
  {
   "cell_type": "code",
   "execution_count": 60,
   "id": "040b4a47",
   "metadata": {},
   "outputs": [
    {
     "data": {
      "text/plain": [
       "0    0.496714\n",
       "1   -0.138264\n",
       "2    0.647689\n",
       "3    1.523030\n",
       "4   -0.796441\n",
       "5   -1.012831\n",
       "6    0.314247\n",
       "7   -0.908024\n",
       "8   -1.412304\n",
       "dtype: float64"
      ]
     },
     "execution_count": 60,
     "metadata": {},
     "output_type": "execute_result"
    }
   ],
   "source": [
    "serie1.add(serie4, fill_value=0) # preencheu todos os valores NaN com 0"
   ]
  },
  {
   "cell_type": "markdown",
   "id": "afadc231",
   "metadata": {},
   "source": [
    "## Subtração"
   ]
  },
  {
   "cell_type": "code",
   "execution_count": 61,
   "id": "bf0bc4a4",
   "metadata": {},
   "outputs": [
    {
     "data": {
      "text/plain": [
       "0   -0.045846\n",
       "1    0.331210\n",
       "2   -0.119746\n",
       "3   -0.056183\n",
       "4   -0.000016\n",
       "dtype: float64"
      ]
     },
     "execution_count": 61,
     "metadata": {},
     "output_type": "execute_result"
    }
   ],
   "source": [
    "serie1 - serie2"
   ]
  },
  {
   "cell_type": "code",
   "execution_count": 62,
   "id": "0941a130",
   "metadata": {},
   "outputs": [
    {
     "data": {
      "text/plain": [
       "0   -0.045846\n",
       "1    0.331210\n",
       "2   -0.119746\n",
       "3   -0.056183\n",
       "4   -0.000016\n",
       "dtype: float64"
      ]
     },
     "execution_count": 62,
     "metadata": {},
     "output_type": "execute_result"
    }
   ],
   "source": [
    "serie1.sub(serie2)"
   ]
  },
  {
   "cell_type": "code",
   "execution_count": 64,
   "id": "1312f246",
   "metadata": {},
   "outputs": [
    {
     "data": {
      "text/plain": [
       "0   -0.045846\n",
       "1    0.331210\n",
       "2   -0.119746\n",
       "3   -0.056183\n",
       "4   -0.000016\n",
       "dtype: float64"
      ]
     },
     "execution_count": 64,
     "metadata": {},
     "output_type": "execute_result"
    }
   ],
   "source": [
    "serie1.subtract(serie2) # parametro fill_value=n"
   ]
  },
  {
   "cell_type": "markdown",
   "id": "db6d5008",
   "metadata": {},
   "source": [
    "## Multiplicação"
   ]
  },
  {
   "cell_type": "code",
   "execution_count": 65,
   "id": "09e1e63f",
   "metadata": {},
   "outputs": [
    {
     "data": {
      "text/plain": [
       "0    0.269497\n",
       "1    0.064912\n",
       "2    0.497059\n",
       "3    2.405188\n",
       "4    0.054824\n",
       "dtype: float64"
      ]
     },
     "execution_count": 65,
     "metadata": {},
     "output_type": "execute_result"
    }
   ],
   "source": [
    "serie1 * serie2"
   ]
  },
  {
   "cell_type": "code",
   "execution_count": 66,
   "id": "777b25ba",
   "metadata": {},
   "outputs": [
    {
     "data": {
      "text/plain": [
       "0         NaN\n",
       "1         NaN\n",
       "2         NaN\n",
       "3         NaN\n",
       "4    0.131662\n",
       "5         NaN\n",
       "6         NaN\n",
       "7         NaN\n",
       "8         NaN\n",
       "dtype: float64"
      ]
     },
     "execution_count": 66,
     "metadata": {},
     "output_type": "execute_result"
    }
   ],
   "source": [
    "serie1 * serie4"
   ]
  },
  {
   "cell_type": "code",
   "execution_count": 68,
   "id": "96b9dfe4",
   "metadata": {},
   "outputs": [
    {
     "data": {
      "text/plain": [
       "0    0.269497\n",
       "1    0.064912\n",
       "2    0.497059\n",
       "3    2.405188\n",
       "4    0.054824\n",
       "dtype: float64"
      ]
     },
     "execution_count": 68,
     "metadata": {},
     "output_type": "execute_result"
    }
   ],
   "source": [
    "serie1.mul(serie2)"
   ]
  },
  {
   "cell_type": "code",
   "execution_count": 70,
   "id": "5ad783f5",
   "metadata": {},
   "outputs": [
    {
     "data": {
      "text/plain": [
       "0    0.269497\n",
       "1    0.064912\n",
       "2    0.497059\n",
       "3    2.405188\n",
       "4    0.054824\n",
       "dtype: float64"
      ]
     },
     "execution_count": 70,
     "metadata": {},
     "output_type": "execute_result"
    }
   ],
   "source": [
    "serie1.multiply(serie2) # fill_value=n"
   ]
  },
  {
   "cell_type": "code",
   "execution_count": 71,
   "id": "f661025f",
   "metadata": {},
   "outputs": [
    {
     "data": {
      "text/plain": [
       "3.2914797044663944"
      ]
     },
     "execution_count": 71,
     "metadata": {},
     "output_type": "execute_result"
    }
   ],
   "source": [
    "# produto vetorial\n",
    "serie1.dot(serie2)"
   ]
  },
  {
   "cell_type": "markdown",
   "id": "41c0b6f8",
   "metadata": {},
   "source": [
    "## Divisão"
   ]
  },
  {
   "cell_type": "code",
   "execution_count": 72,
   "id": "ea0a66da",
   "metadata": {},
   "outputs": [
    {
     "data": {
      "text/plain": [
       "0    0.915501\n",
       "1    0.294509\n",
       "2    0.843966\n",
       "3    0.964423\n",
       "4    1.000070\n",
       "dtype: float64"
      ]
     },
     "execution_count": 72,
     "metadata": {},
     "output_type": "execute_result"
    }
   ],
   "source": [
    "serie1 / serie2"
   ]
  },
  {
   "cell_type": "code",
   "execution_count": 73,
   "id": "102b7fc8",
   "metadata": {},
   "outputs": [
    {
     "data": {
      "text/plain": [
       "0    0.915501\n",
       "1    0.294509\n",
       "2    0.843966\n",
       "3    0.964423\n",
       "4    1.000070\n",
       "dtype: float64"
      ]
     },
     "execution_count": 73,
     "metadata": {},
     "output_type": "execute_result"
    }
   ],
   "source": [
    "serie1.div(serie2)"
   ]
  },
  {
   "cell_type": "code",
   "execution_count": 74,
   "id": "c0487d12",
   "metadata": {},
   "outputs": [
    {
     "data": {
      "text/plain": [
       "0    0.915501\n",
       "1    0.294509\n",
       "2    0.843966\n",
       "3    0.964423\n",
       "4    1.000070\n",
       "dtype: float64"
      ]
     },
     "execution_count": 74,
     "metadata": {},
     "output_type": "execute_result"
    }
   ],
   "source": [
    "serie1.divide(serie2) # fill_value=n"
   ]
  },
  {
   "cell_type": "markdown",
   "id": "a87ed35f",
   "metadata": {},
   "source": [
    "## Exponenciação"
   ]
  },
  {
   "cell_type": "code",
   "execution_count": 75,
   "id": "e7d55832",
   "metadata": {},
   "outputs": [
    {
     "data": {
      "text/plain": [
       "0    0.684100\n",
       "1         NaN\n",
       "2    0.716532\n",
       "3    1.943280\n",
       "4         NaN\n",
       "dtype: float64"
      ]
     },
     "execution_count": 75,
     "metadata": {},
     "output_type": "execute_result"
    }
   ],
   "source": [
    "serie1 ** serie2"
   ]
  },
  {
   "cell_type": "code",
   "execution_count": 76,
   "id": "372d5437",
   "metadata": {},
   "outputs": [
    {
     "data": {
      "text/plain": [
       "0    0.246725\n",
       "1    0.019117\n",
       "2    0.419500\n",
       "3    2.319620\n",
       "4    0.054828\n",
       "dtype: float64"
      ]
     },
     "execution_count": 76,
     "metadata": {},
     "output_type": "execute_result"
    }
   ],
   "source": [
    "serie1 ** 2"
   ]
  },
  {
   "cell_type": "code",
   "execution_count": 77,
   "id": "5df76866",
   "metadata": {},
   "outputs": [
    {
     "data": {
      "text/plain": [
       "0    0.684100\n",
       "1         NaN\n",
       "2    0.716532\n",
       "3    1.943280\n",
       "4         NaN\n",
       "dtype: float64"
      ]
     },
     "execution_count": 77,
     "metadata": {},
     "output_type": "execute_result"
    }
   ],
   "source": [
    "serie1.pow(serie2)"
   ]
  },
  {
   "cell_type": "markdown",
   "id": "77fec930",
   "metadata": {},
   "source": [
    "# Filtros"
   ]
  },
  {
   "cell_type": "code",
   "execution_count": 78,
   "id": "b98cf6d4",
   "metadata": {},
   "outputs": [
    {
     "data": {
      "text/plain": [
       "0    0.496714\n",
       "1   -0.138264\n",
       "2    0.647689\n",
       "3    1.523030\n",
       "4   -0.234153\n",
       "5   -0.234137\n",
       "6    1.579213\n",
       "7    0.767435\n",
       "8   -0.469474\n",
       "9    0.542560\n",
       "dtype: float64"
      ]
     },
     "execution_count": 78,
     "metadata": {},
     "output_type": "execute_result"
    }
   ],
   "source": [
    "np.random.seed(42)\n",
    "\n",
    "serie = pd.Series(data=np.random.normal(size=10))\n",
    "serie"
   ]
  },
  {
   "cell_type": "code",
   "execution_count": 79,
   "id": "19b83cd8",
   "metadata": {},
   "outputs": [
    {
     "data": {
      "text/plain": [
       "0     True\n",
       "1    False\n",
       "2     True\n",
       "3     True\n",
       "4    False\n",
       "5    False\n",
       "6     True\n",
       "7     True\n",
       "8    False\n",
       "9     True\n",
       "dtype: bool"
      ]
     },
     "execution_count": 79,
     "metadata": {},
     "output_type": "execute_result"
    }
   ],
   "source": [
    "serie > 0"
   ]
  },
  {
   "cell_type": "code",
   "execution_count": 80,
   "id": "79556450",
   "metadata": {},
   "outputs": [
    {
     "data": {
      "text/plain": [
       "0     True\n",
       "1    False\n",
       "2     True\n",
       "3    False\n",
       "4    False\n",
       "5    False\n",
       "6    False\n",
       "7     True\n",
       "8    False\n",
       "9     True\n",
       "dtype: bool"
      ]
     },
     "execution_count": 80,
     "metadata": {},
     "output_type": "execute_result"
    }
   ],
   "source": [
    "(serie > 0) & (serie < 1)"
   ]
  },
  {
   "cell_type": "code",
   "execution_count": 81,
   "id": "80c13612",
   "metadata": {},
   "outputs": [
    {
     "data": {
      "text/plain": [
       "0    0.496714\n",
       "2    0.647689\n",
       "7    0.767435\n",
       "9    0.542560\n",
       "dtype: float64"
      ]
     },
     "execution_count": 81,
     "metadata": {},
     "output_type": "execute_result"
    }
   ],
   "source": [
    "serie[(serie > 0) & (serie < 1)]"
   ]
  },
  {
   "cell_type": "code",
   "execution_count": 84,
   "id": "d2920819",
   "metadata": {
    "collapsed": true
   },
   "outputs": [
    {
     "ename": "IndexingError",
     "evalue": "Unalignable boolean Series provided as indexer (index of the boolean Series and of the indexed object do not match).",
     "output_type": "error",
     "traceback": [
      "\u001b[1;31m---------------------------------------------------------------------------\u001b[0m",
      "\u001b[1;31mIndexingError\u001b[0m                             Traceback (most recent call last)",
      "\u001b[1;32m~\\AppData\\Local\\Temp/ipykernel_3524/30792332.py\u001b[0m in \u001b[0;36m<module>\u001b[1;34m\u001b[0m\n\u001b[0;32m      4\u001b[0m \u001b[0mserie1\u001b[0m \u001b[1;33m=\u001b[0m \u001b[0mpd\u001b[0m\u001b[1;33m.\u001b[0m\u001b[0mSeries\u001b[0m\u001b[1;33m(\u001b[0m\u001b[0mdata\u001b[0m\u001b[1;33m=\u001b[0m\u001b[0mnp\u001b[0m\u001b[1;33m.\u001b[0m\u001b[0marange\u001b[0m\u001b[1;33m(\u001b[0m\u001b[1;36m10\u001b[0m\u001b[1;33m)\u001b[0m\u001b[1;33m)\u001b[0m\u001b[1;33m\u001b[0m\u001b[1;33m\u001b[0m\u001b[0m\n\u001b[0;32m      5\u001b[0m \u001b[0mserie2\u001b[0m \u001b[1;33m=\u001b[0m \u001b[0mpd\u001b[0m\u001b[1;33m.\u001b[0m\u001b[0mSeries\u001b[0m\u001b[1;33m(\u001b[0m\u001b[0mdata\u001b[0m\u001b[1;33m=\u001b[0m\u001b[0mnp\u001b[0m\u001b[1;33m.\u001b[0m\u001b[0marange\u001b[0m\u001b[1;33m(\u001b[0m\u001b[1;36m10\u001b[0m\u001b[1;33m)\u001b[0m\u001b[1;33m,\u001b[0m \u001b[0mindex\u001b[0m\u001b[1;33m=\u001b[0m\u001b[0mnp\u001b[0m\u001b[1;33m.\u001b[0m\u001b[0marange\u001b[0m\u001b[1;33m(\u001b[0m\u001b[1;36m10\u001b[0m\u001b[1;33m,\u001b[0m\u001b[1;36m20\u001b[0m\u001b[1;33m)\u001b[0m\u001b[1;33m)\u001b[0m\u001b[1;33m\u001b[0m\u001b[1;33m\u001b[0m\u001b[0m\n\u001b[1;32m----> 6\u001b[1;33m \u001b[0mserie1\u001b[0m\u001b[1;33m[\u001b[0m\u001b[0mserie2\u001b[0m \u001b[1;33m>\u001b[0m \u001b[1;36m5\u001b[0m\u001b[1;33m]\u001b[0m \u001b[1;31m# Unalignable boolean Series provided as indexer (index of the boolean Series and of the indexed object do not match).\u001b[0m\u001b[1;33m\u001b[0m\u001b[1;33m\u001b[0m\u001b[0m\n\u001b[0m",
      "\u001b[1;32m~\\anaconda3\\lib\\site-packages\\pandas\\core\\series.py\u001b[0m in \u001b[0;36m__getitem__\u001b[1;34m(self, key)\u001b[0m\n\u001b[0;32m    960\u001b[0m \u001b[1;33m\u001b[0m\u001b[0m\n\u001b[0;32m    961\u001b[0m         \u001b[1;32mif\u001b[0m \u001b[0mcom\u001b[0m\u001b[1;33m.\u001b[0m\u001b[0mis_bool_indexer\u001b[0m\u001b[1;33m(\u001b[0m\u001b[0mkey\u001b[0m\u001b[1;33m)\u001b[0m\u001b[1;33m:\u001b[0m\u001b[1;33m\u001b[0m\u001b[1;33m\u001b[0m\u001b[0m\n\u001b[1;32m--> 962\u001b[1;33m             \u001b[0mkey\u001b[0m \u001b[1;33m=\u001b[0m \u001b[0mcheck_bool_indexer\u001b[0m\u001b[1;33m(\u001b[0m\u001b[0mself\u001b[0m\u001b[1;33m.\u001b[0m\u001b[0mindex\u001b[0m\u001b[1;33m,\u001b[0m \u001b[0mkey\u001b[0m\u001b[1;33m)\u001b[0m\u001b[1;33m\u001b[0m\u001b[1;33m\u001b[0m\u001b[0m\n\u001b[0m\u001b[0;32m    963\u001b[0m             \u001b[0mkey\u001b[0m \u001b[1;33m=\u001b[0m \u001b[0mnp\u001b[0m\u001b[1;33m.\u001b[0m\u001b[0masarray\u001b[0m\u001b[1;33m(\u001b[0m\u001b[0mkey\u001b[0m\u001b[1;33m,\u001b[0m \u001b[0mdtype\u001b[0m\u001b[1;33m=\u001b[0m\u001b[0mbool\u001b[0m\u001b[1;33m)\u001b[0m\u001b[1;33m\u001b[0m\u001b[1;33m\u001b[0m\u001b[0m\n\u001b[0;32m    964\u001b[0m             \u001b[1;32mreturn\u001b[0m \u001b[0mself\u001b[0m\u001b[1;33m.\u001b[0m\u001b[0m_get_values\u001b[0m\u001b[1;33m(\u001b[0m\u001b[0mkey\u001b[0m\u001b[1;33m)\u001b[0m\u001b[1;33m\u001b[0m\u001b[1;33m\u001b[0m\u001b[0m\n",
      "\u001b[1;32m~\\anaconda3\\lib\\site-packages\\pandas\\core\\indexing.py\u001b[0m in \u001b[0;36mcheck_bool_indexer\u001b[1;34m(index, key)\u001b[0m\n\u001b[0;32m   2386\u001b[0m         \u001b[0mmask\u001b[0m \u001b[1;33m=\u001b[0m \u001b[0misna\u001b[0m\u001b[1;33m(\u001b[0m\u001b[0mresult\u001b[0m\u001b[1;33m.\u001b[0m\u001b[0m_values\u001b[0m\u001b[1;33m)\u001b[0m\u001b[1;33m\u001b[0m\u001b[1;33m\u001b[0m\u001b[0m\n\u001b[0;32m   2387\u001b[0m         \u001b[1;32mif\u001b[0m \u001b[0mmask\u001b[0m\u001b[1;33m.\u001b[0m\u001b[0many\u001b[0m\u001b[1;33m(\u001b[0m\u001b[1;33m)\u001b[0m\u001b[1;33m:\u001b[0m\u001b[1;33m\u001b[0m\u001b[1;33m\u001b[0m\u001b[0m\n\u001b[1;32m-> 2388\u001b[1;33m             raise IndexingError(\n\u001b[0m\u001b[0;32m   2389\u001b[0m                 \u001b[1;34m\"Unalignable boolean Series provided as \"\u001b[0m\u001b[1;33m\u001b[0m\u001b[1;33m\u001b[0m\u001b[0m\n\u001b[0;32m   2390\u001b[0m                 \u001b[1;34m\"indexer (index of the boolean Series and of \"\u001b[0m\u001b[1;33m\u001b[0m\u001b[1;33m\u001b[0m\u001b[0m\n",
      "\u001b[1;31mIndexingError\u001b[0m: Unalignable boolean Series provided as indexer (index of the boolean Series and of the indexed object do not match)."
     ]
    }
   ],
   "source": [
    "# É importante destacar que a sintaxe acima espera que haja equivalência entre a série \n",
    "# de booleanos usada como filtro e a série sendo filtrada, de forma que se não houver esse pareamento \n",
    "# receberemos um erro de índices\n",
    "serie1 = pd.Series(data=np.arange(10))\n",
    "serie2 = pd.Series(data=np.arange(10), index=np.arange(10,20))\n",
    "serie1[serie2 > 5] # Unalignable boolean Series provided as indexer (index of the boolean Series and of the indexed object do not match)."
   ]
  },
  {
   "cell_type": "code",
   "execution_count": 85,
   "id": "979cf211",
   "metadata": {},
   "outputs": [
    {
     "data": {
      "text/plain": [
       "0    0\n",
       "1    1\n",
       "2    2\n",
       "3    3\n",
       "dtype: int32"
      ]
     },
     "execution_count": 85,
     "metadata": {},
     "output_type": "execute_result"
    }
   ],
   "source": [
    "# Apesar de ser possível fazer o filtro de uma série em outra, é extramemente desacomselhado a não ser que \n",
    "# você tenha muita segurança no que está fazendo\n",
    "serie1 = pd.Series(data=np.arange(10))\n",
    "serie2 = pd.Series(data=np.arange(10), index=np.arange(9,-1,-1))\n",
    "serie1[serie2 > 5]"
   ]
  },
  {
   "cell_type": "code",
   "execution_count": 86,
   "id": "6bb4b198",
   "metadata": {},
   "outputs": [
    {
     "data": {
      "text/plain": [
       "True"
      ]
     },
     "execution_count": 86,
     "metadata": {},
     "output_type": "execute_result"
    }
   ],
   "source": [
    "((serie > 0) & (serie < 1)).any()"
   ]
  },
  {
   "cell_type": "code",
   "execution_count": 87,
   "id": "7d67bbe6",
   "metadata": {},
   "outputs": [
    {
     "data": {
      "text/plain": [
       "False"
      ]
     },
     "execution_count": 87,
     "metadata": {},
     "output_type": "execute_result"
    }
   ],
   "source": [
    "((serie > 0) & (serie < 1)).all()"
   ]
  },
  {
   "cell_type": "code",
   "execution_count": 89,
   "id": "803b1553",
   "metadata": {},
   "outputs": [
    {
     "data": {
      "text/plain": [
       "True"
      ]
     },
     "execution_count": 89,
     "metadata": {},
     "output_type": "execute_result"
    }
   ],
   "source": [
    "(serie > -1000).all()"
   ]
  },
  {
   "cell_type": "code",
   "execution_count": 90,
   "id": "a955d90f",
   "metadata": {},
   "outputs": [
    {
     "data": {
      "text/plain": [
       "True"
      ]
     },
     "execution_count": 90,
     "metadata": {},
     "output_type": "execute_result"
    }
   ],
   "source": [
    "any((serie > 0) & (serie < 1))"
   ]
  },
  {
   "cell_type": "code",
   "execution_count": 91,
   "id": "6cc255a0",
   "metadata": {},
   "outputs": [
    {
     "data": {
      "text/plain": [
       "True"
      ]
     },
     "execution_count": 91,
     "metadata": {},
     "output_type": "execute_result"
    }
   ],
   "source": [
    "np.any((serie > 0) & (serie < 1))"
   ]
  },
  {
   "cell_type": "code",
   "execution_count": 92,
   "id": "ee194645",
   "metadata": {},
   "outputs": [
    {
     "data": {
      "text/plain": [
       "False"
      ]
     },
     "execution_count": 92,
     "metadata": {},
     "output_type": "execute_result"
    }
   ],
   "source": [
    "np.all((serie > 0) & (serie < 1))"
   ]
  },
  {
   "cell_type": "code",
   "execution_count": 94,
   "id": "30eb6ea6",
   "metadata": {},
   "outputs": [
    {
     "data": {
      "text/plain": [
       "True"
      ]
     },
     "execution_count": 94,
     "metadata": {},
     "output_type": "execute_result"
    }
   ],
   "source": [
    "all(serie > -1000)"
   ]
  },
  {
   "cell_type": "code",
   "execution_count": 95,
   "id": "1de8a5f3",
   "metadata": {},
   "outputs": [],
   "source": [
    "serie = pd.Series(data=list(\"abcdefghijklmnopqrstuvwxyz\"))"
   ]
  },
  {
   "cell_type": "code",
   "execution_count": 96,
   "id": "24dbe8ba",
   "metadata": {},
   "outputs": [
    {
     "data": {
      "text/plain": [
       "0      True\n",
       "1     False\n",
       "2     False\n",
       "3     False\n",
       "4      True\n",
       "5     False\n",
       "6     False\n",
       "7     False\n",
       "8      True\n",
       "9     False\n",
       "10    False\n",
       "11    False\n",
       "12    False\n",
       "13    False\n",
       "14     True\n",
       "15    False\n",
       "16    False\n",
       "17    False\n",
       "18    False\n",
       "19    False\n",
       "20     True\n",
       "21    False\n",
       "22    False\n",
       "23    False\n",
       "24    False\n",
       "25    False\n",
       "dtype: bool"
      ]
     },
     "execution_count": 96,
     "metadata": {},
     "output_type": "execute_result"
    }
   ],
   "source": [
    "serie.isin([\"a\",\"e\",\"i\",\"o\",\"u\"])"
   ]
  },
  {
   "cell_type": "code",
   "execution_count": 99,
   "id": "f9307c46",
   "metadata": {},
   "outputs": [
    {
     "data": {
      "text/plain": [
       "0     a\n",
       "4     e\n",
       "8     i\n",
       "14    o\n",
       "20    u\n",
       "dtype: object"
      ]
     },
     "execution_count": 99,
     "metadata": {},
     "output_type": "execute_result"
    }
   ],
   "source": [
    "serie[serie.isin([\"a\", \"e\", \"i\", \"o\", \"u\"])]"
   ]
  },
  {
   "cell_type": "code",
   "execution_count": 101,
   "id": "f2852f40",
   "metadata": {},
   "outputs": [
    {
     "data": {
      "text/plain": [
       "2"
      ]
     },
     "execution_count": 101,
     "metadata": {},
     "output_type": "execute_result"
    }
   ],
   "source": [
    "serie = pd.Series(data=[1,2,3,np.nan,5,np.nan,7])\n",
    "sum(np.isnan(serie))"
   ]
  },
  {
   "cell_type": "code",
   "execution_count": 102,
   "id": "a29bc2ea",
   "metadata": {},
   "outputs": [
    {
     "data": {
      "text/plain": [
       "0    False\n",
       "1    False\n",
       "2    False\n",
       "3     True\n",
       "4    False\n",
       "5     True\n",
       "6    False\n",
       "dtype: bool"
      ]
     },
     "execution_count": 102,
     "metadata": {},
     "output_type": "execute_result"
    }
   ],
   "source": [
    "serie.isnull()"
   ]
  },
  {
   "cell_type": "code",
   "execution_count": 103,
   "id": "972deae0",
   "metadata": {},
   "outputs": [
    {
     "data": {
      "text/plain": [
       "True"
      ]
     },
     "execution_count": 103,
     "metadata": {},
     "output_type": "execute_result"
    }
   ],
   "source": [
    "pd.isnull(np.nan)"
   ]
  },
  {
   "cell_type": "code",
   "execution_count": 104,
   "id": "4f7d93ef",
   "metadata": {},
   "outputs": [
    {
     "data": {
      "text/plain": [
       "0    False\n",
       "1    False\n",
       "2    False\n",
       "3     True\n",
       "4    False\n",
       "5     True\n",
       "6    False\n",
       "dtype: bool"
      ]
     },
     "execution_count": 104,
     "metadata": {},
     "output_type": "execute_result"
    }
   ],
   "source": [
    "pd.isnull(serie)"
   ]
  },
  {
   "cell_type": "code",
   "execution_count": 105,
   "id": "8dd3359f",
   "metadata": {},
   "outputs": [
    {
     "data": {
      "text/plain": [
       "0    NaN\n",
       "1    NaN\n",
       "2    NaN\n",
       "3    NaN\n",
       "4    NaN\n",
       "5    NaN\n",
       "6    6.0\n",
       "7    7.0\n",
       "8    8.0\n",
       "9    9.0\n",
       "dtype: float64"
      ]
     },
     "execution_count": 105,
     "metadata": {},
     "output_type": "execute_result"
    }
   ],
   "source": [
    "serie = pd.Series(data=np.arange(10))\n",
    "serie.where(lambda s: s > 5)"
   ]
  },
  {
   "cell_type": "code",
   "execution_count": 106,
   "id": "7213d7b0",
   "metadata": {},
   "outputs": [
    {
     "data": {
      "text/plain": [
       "0    0\n",
       "1    0\n",
       "2    0\n",
       "3    0\n",
       "4    0\n",
       "5    0\n",
       "6    6\n",
       "7    7\n",
       "8    8\n",
       "9    9\n",
       "dtype: int32"
      ]
     },
     "execution_count": 106,
     "metadata": {},
     "output_type": "execute_result"
    }
   ],
   "source": [
    "serie.where(lambda s: s > 5, 0)"
   ]
  },
  {
   "cell_type": "markdown",
   "id": "fea7f7e2",
   "metadata": {},
   "source": [
    "# Adição de Dados"
   ]
  },
  {
   "cell_type": "code",
   "execution_count": 107,
   "id": "7ca477a1",
   "metadata": {},
   "outputs": [
    {
     "data": {
      "text/plain": [
       "0    0\n",
       "1    1\n",
       "2    2\n",
       "3    3\n",
       "4    4\n",
       "dtype: int32"
      ]
     },
     "execution_count": 107,
     "metadata": {},
     "output_type": "execute_result"
    }
   ],
   "source": [
    "serie = pd.Series(data=np.arange(5))\n",
    "add = pd.Series(data=np.arange(5,10))\n",
    "serie"
   ]
  },
  {
   "cell_type": "code",
   "execution_count": 113,
   "id": "7784d1fd",
   "metadata": {},
   "outputs": [
    {
     "data": {
      "text/plain": [
       "0    0\n",
       "1    1\n",
       "2    2\n",
       "3    3\n",
       "4    4\n",
       "0    5\n",
       "1    6\n",
       "2    7\n",
       "3    8\n",
       "4    9\n",
       "dtype: int32"
      ]
     },
     "execution_count": 113,
     "metadata": {},
     "output_type": "execute_result"
    }
   ],
   "source": [
    "serie.append(add) # índices duplicados"
   ]
  },
  {
   "cell_type": "code",
   "execution_count": 114,
   "id": "91f47ee5",
   "metadata": {},
   "outputs": [
    {
     "data": {
      "text/plain": [
       "0    0\n",
       "1    1\n",
       "2    2\n",
       "3    3\n",
       "4    4\n",
       "5    5\n",
       "6    6\n",
       "7    7\n",
       "8    8\n",
       "9    9\n",
       "dtype: int32"
      ]
     },
     "execution_count": 114,
     "metadata": {},
     "output_type": "execute_result"
    }
   ],
   "source": [
    "serie.append(add).reset_index(drop=True)"
   ]
  },
  {
   "cell_type": "code",
   "execution_count": 115,
   "id": "50235ec6",
   "metadata": {},
   "outputs": [
    {
     "name": "stdout",
     "output_type": "stream",
     "text": [
      "2663182981488 2663182979952\n"
     ]
    }
   ],
   "source": [
    "serie_nova = serie.append(add)\n",
    "\n",
    "print(id(serie_nova), id(serie_nova.reset_index(drop=True)))"
   ]
  },
  {
   "cell_type": "code",
   "execution_count": 116,
   "id": "6edf5279",
   "metadata": {},
   "outputs": [
    {
     "data": {
      "text/plain": [
       "0    0\n",
       "1    1\n",
       "2    2\n",
       "3    3\n",
       "4    4\n",
       "0    5\n",
       "1    6\n",
       "2    7\n",
       "3    8\n",
       "4    9\n",
       "dtype: int32"
      ]
     },
     "execution_count": 116,
     "metadata": {},
     "output_type": "execute_result"
    }
   ],
   "source": [
    "serie_nova"
   ]
  },
  {
   "cell_type": "code",
   "execution_count": 117,
   "id": "2cc65cca",
   "metadata": {},
   "outputs": [],
   "source": [
    "serie_nova.reset_index(drop=True, inplace=True)"
   ]
  },
  {
   "cell_type": "code",
   "execution_count": 118,
   "id": "325018e8",
   "metadata": {},
   "outputs": [
    {
     "data": {
      "text/plain": [
       "0    0\n",
       "1    1\n",
       "2    2\n",
       "3    3\n",
       "4    4\n",
       "5    5\n",
       "6    6\n",
       "7    7\n",
       "8    8\n",
       "9    9\n",
       "dtype: int32"
      ]
     },
     "execution_count": 118,
     "metadata": {},
     "output_type": "execute_result"
    }
   ],
   "source": [
    "serie_nova"
   ]
  },
  {
   "cell_type": "code",
   "execution_count": 120,
   "id": "3580fabc",
   "metadata": {},
   "outputs": [
    {
     "data": {
      "text/plain": [
       "0    0\n",
       "1    1\n",
       "2    2\n",
       "3    3\n",
       "4    4\n",
       "5    5\n",
       "6    6\n",
       "7    7\n",
       "8    8\n",
       "9    9\n",
       "dtype: int32"
      ]
     },
     "execution_count": 120,
     "metadata": {},
     "output_type": "execute_result"
    }
   ],
   "source": [
    "serie.append(add, ignore_index=True)"
   ]
  },
  {
   "cell_type": "markdown",
   "id": "9f3a2f6c",
   "metadata": {},
   "source": [
    "# Remoção de Dados"
   ]
  },
  {
   "cell_type": "code",
   "execution_count": 121,
   "id": "47e446ee",
   "metadata": {},
   "outputs": [
    {
     "data": {
      "text/plain": [
       "0    6\n",
       "1    3\n",
       "2    7\n",
       "3    4\n",
       "4    6\n",
       "5    9\n",
       "6    2\n",
       "7    6\n",
       "8    7\n",
       "9    4\n",
       "dtype: int32"
      ]
     },
     "execution_count": 121,
     "metadata": {},
     "output_type": "execute_result"
    }
   ],
   "source": [
    "np.random.seed(42)\n",
    "\n",
    "serie = pd.Series(np.random.randint(10, size=10))\n",
    "serie"
   ]
  },
  {
   "cell_type": "code",
   "execution_count": 122,
   "id": "56ae41bf",
   "metadata": {},
   "outputs": [
    {
     "data": {
      "text/plain": [
       "0    6\n",
       "1    3\n",
       "2    7\n",
       "4    6\n",
       "6    2\n",
       "7    6\n",
       "8    7\n",
       "9    4\n",
       "dtype: int32"
      ]
     },
     "execution_count": 122,
     "metadata": {},
     "output_type": "execute_result"
    }
   ],
   "source": [
    "serie.drop([3,5])"
   ]
  },
  {
   "cell_type": "code",
   "execution_count": 124,
   "id": "2f8df737",
   "metadata": {},
   "outputs": [],
   "source": [
    "serie.drop([3,5], inplace=True)"
   ]
  },
  {
   "cell_type": "code",
   "execution_count": 125,
   "id": "94f9a825",
   "metadata": {},
   "outputs": [
    {
     "data": {
      "text/plain": [
       "0    6\n",
       "1    3\n",
       "2    7\n",
       "4    6\n",
       "6    2\n",
       "7    6\n",
       "8    7\n",
       "9    4\n",
       "dtype: int32"
      ]
     },
     "execution_count": 125,
     "metadata": {},
     "output_type": "execute_result"
    }
   ],
   "source": [
    "serie"
   ]
  },
  {
   "cell_type": "code",
   "execution_count": 126,
   "id": "67d5acc3",
   "metadata": {},
   "outputs": [
    {
     "data": {
      "text/plain": [
       "a    6\n",
       "b    3\n",
       "c    7\n",
       "d    4\n",
       "e    6\n",
       "f    9\n",
       "g    2\n",
       "h    6\n",
       "i    7\n",
       "j    4\n",
       "dtype: int32"
      ]
     },
     "execution_count": 126,
     "metadata": {},
     "output_type": "execute_result"
    }
   ],
   "source": [
    "np.random.seed(42)\n",
    "\n",
    "serie = pd.Series(np.random.randint(10, size=10), index=list(\"abcdefghij\"))\n",
    "serie"
   ]
  },
  {
   "cell_type": "code",
   "execution_count": 128,
   "id": "dfd98f42",
   "metadata": {
    "collapsed": true
   },
   "outputs": [
    {
     "ename": "KeyError",
     "evalue": "'[3 5] not found in axis'",
     "output_type": "error",
     "traceback": [
      "\u001b[1;31m---------------------------------------------------------------------------\u001b[0m",
      "\u001b[1;31mKeyError\u001b[0m                                  Traceback (most recent call last)",
      "\u001b[1;32m~\\AppData\\Local\\Temp/ipykernel_3524/1247754869.py\u001b[0m in \u001b[0;36m<module>\u001b[1;34m\u001b[0m\n\u001b[1;32m----> 1\u001b[1;33m \u001b[0mserie\u001b[0m\u001b[1;33m.\u001b[0m\u001b[0mdrop\u001b[0m\u001b[1;33m(\u001b[0m\u001b[0mindex\u001b[0m\u001b[1;33m=\u001b[0m\u001b[1;33m[\u001b[0m\u001b[1;36m3\u001b[0m\u001b[1;33m,\u001b[0m\u001b[1;36m5\u001b[0m\u001b[1;33m]\u001b[0m\u001b[1;33m)\u001b[0m\u001b[1;33m\u001b[0m\u001b[1;33m\u001b[0m\u001b[0m\n\u001b[0m",
      "\u001b[1;32m~\\anaconda3\\lib\\site-packages\\pandas\\util\\_decorators.py\u001b[0m in \u001b[0;36mwrapper\u001b[1;34m(*args, **kwargs)\u001b[0m\n\u001b[0;32m    309\u001b[0m                     \u001b[0mstacklevel\u001b[0m\u001b[1;33m=\u001b[0m\u001b[0mstacklevel\u001b[0m\u001b[1;33m,\u001b[0m\u001b[1;33m\u001b[0m\u001b[1;33m\u001b[0m\u001b[0m\n\u001b[0;32m    310\u001b[0m                 )\n\u001b[1;32m--> 311\u001b[1;33m             \u001b[1;32mreturn\u001b[0m \u001b[0mfunc\u001b[0m\u001b[1;33m(\u001b[0m\u001b[1;33m*\u001b[0m\u001b[0margs\u001b[0m\u001b[1;33m,\u001b[0m \u001b[1;33m**\u001b[0m\u001b[0mkwargs\u001b[0m\u001b[1;33m)\u001b[0m\u001b[1;33m\u001b[0m\u001b[1;33m\u001b[0m\u001b[0m\n\u001b[0m\u001b[0;32m    312\u001b[0m \u001b[1;33m\u001b[0m\u001b[0m\n\u001b[0;32m    313\u001b[0m         \u001b[1;32mreturn\u001b[0m \u001b[0mwrapper\u001b[0m\u001b[1;33m\u001b[0m\u001b[1;33m\u001b[0m\u001b[0m\n",
      "\u001b[1;32m~\\anaconda3\\lib\\site-packages\\pandas\\core\\series.py\u001b[0m in \u001b[0;36mdrop\u001b[1;34m(self, labels, axis, index, columns, level, inplace, errors)\u001b[0m\n\u001b[0;32m   4677\u001b[0m         \u001b[0mdtype\u001b[0m\u001b[1;33m:\u001b[0m \u001b[0mfloat64\u001b[0m\u001b[1;33m\u001b[0m\u001b[1;33m\u001b[0m\u001b[0m\n\u001b[0;32m   4678\u001b[0m         \"\"\"\n\u001b[1;32m-> 4679\u001b[1;33m         return super().drop(\n\u001b[0m\u001b[0;32m   4680\u001b[0m             \u001b[0mlabels\u001b[0m\u001b[1;33m=\u001b[0m\u001b[0mlabels\u001b[0m\u001b[1;33m,\u001b[0m\u001b[1;33m\u001b[0m\u001b[1;33m\u001b[0m\u001b[0m\n\u001b[0;32m   4681\u001b[0m             \u001b[0maxis\u001b[0m\u001b[1;33m=\u001b[0m\u001b[0maxis\u001b[0m\u001b[1;33m,\u001b[0m\u001b[1;33m\u001b[0m\u001b[1;33m\u001b[0m\u001b[0m\n",
      "\u001b[1;32m~\\anaconda3\\lib\\site-packages\\pandas\\core\\generic.py\u001b[0m in \u001b[0;36mdrop\u001b[1;34m(self, labels, axis, index, columns, level, inplace, errors)\u001b[0m\n\u001b[0;32m   4148\u001b[0m         \u001b[1;32mfor\u001b[0m \u001b[0maxis\u001b[0m\u001b[1;33m,\u001b[0m \u001b[0mlabels\u001b[0m \u001b[1;32min\u001b[0m \u001b[0maxes\u001b[0m\u001b[1;33m.\u001b[0m\u001b[0mitems\u001b[0m\u001b[1;33m(\u001b[0m\u001b[1;33m)\u001b[0m\u001b[1;33m:\u001b[0m\u001b[1;33m\u001b[0m\u001b[1;33m\u001b[0m\u001b[0m\n\u001b[0;32m   4149\u001b[0m             \u001b[1;32mif\u001b[0m \u001b[0mlabels\u001b[0m \u001b[1;32mis\u001b[0m \u001b[1;32mnot\u001b[0m \u001b[1;32mNone\u001b[0m\u001b[1;33m:\u001b[0m\u001b[1;33m\u001b[0m\u001b[1;33m\u001b[0m\u001b[0m\n\u001b[1;32m-> 4150\u001b[1;33m                 \u001b[0mobj\u001b[0m \u001b[1;33m=\u001b[0m \u001b[0mobj\u001b[0m\u001b[1;33m.\u001b[0m\u001b[0m_drop_axis\u001b[0m\u001b[1;33m(\u001b[0m\u001b[0mlabels\u001b[0m\u001b[1;33m,\u001b[0m \u001b[0maxis\u001b[0m\u001b[1;33m,\u001b[0m \u001b[0mlevel\u001b[0m\u001b[1;33m=\u001b[0m\u001b[0mlevel\u001b[0m\u001b[1;33m,\u001b[0m \u001b[0merrors\u001b[0m\u001b[1;33m=\u001b[0m\u001b[0merrors\u001b[0m\u001b[1;33m)\u001b[0m\u001b[1;33m\u001b[0m\u001b[1;33m\u001b[0m\u001b[0m\n\u001b[0m\u001b[0;32m   4151\u001b[0m \u001b[1;33m\u001b[0m\u001b[0m\n\u001b[0;32m   4152\u001b[0m         \u001b[1;32mif\u001b[0m \u001b[0minplace\u001b[0m\u001b[1;33m:\u001b[0m\u001b[1;33m\u001b[0m\u001b[1;33m\u001b[0m\u001b[0m\n",
      "\u001b[1;32m~\\anaconda3\\lib\\site-packages\\pandas\\core\\generic.py\u001b[0m in \u001b[0;36m_drop_axis\u001b[1;34m(self, labels, axis, level, errors)\u001b[0m\n\u001b[0;32m   4183\u001b[0m                 \u001b[0mnew_axis\u001b[0m \u001b[1;33m=\u001b[0m \u001b[0maxis\u001b[0m\u001b[1;33m.\u001b[0m\u001b[0mdrop\u001b[0m\u001b[1;33m(\u001b[0m\u001b[0mlabels\u001b[0m\u001b[1;33m,\u001b[0m \u001b[0mlevel\u001b[0m\u001b[1;33m=\u001b[0m\u001b[0mlevel\u001b[0m\u001b[1;33m,\u001b[0m \u001b[0merrors\u001b[0m\u001b[1;33m=\u001b[0m\u001b[0merrors\u001b[0m\u001b[1;33m)\u001b[0m\u001b[1;33m\u001b[0m\u001b[1;33m\u001b[0m\u001b[0m\n\u001b[0;32m   4184\u001b[0m             \u001b[1;32melse\u001b[0m\u001b[1;33m:\u001b[0m\u001b[1;33m\u001b[0m\u001b[1;33m\u001b[0m\u001b[0m\n\u001b[1;32m-> 4185\u001b[1;33m                 \u001b[0mnew_axis\u001b[0m \u001b[1;33m=\u001b[0m \u001b[0maxis\u001b[0m\u001b[1;33m.\u001b[0m\u001b[0mdrop\u001b[0m\u001b[1;33m(\u001b[0m\u001b[0mlabels\u001b[0m\u001b[1;33m,\u001b[0m \u001b[0merrors\u001b[0m\u001b[1;33m=\u001b[0m\u001b[0merrors\u001b[0m\u001b[1;33m)\u001b[0m\u001b[1;33m\u001b[0m\u001b[1;33m\u001b[0m\u001b[0m\n\u001b[0m\u001b[0;32m   4186\u001b[0m             \u001b[0mresult\u001b[0m \u001b[1;33m=\u001b[0m \u001b[0mself\u001b[0m\u001b[1;33m.\u001b[0m\u001b[0mreindex\u001b[0m\u001b[1;33m(\u001b[0m\u001b[1;33m**\u001b[0m\u001b[1;33m{\u001b[0m\u001b[0maxis_name\u001b[0m\u001b[1;33m:\u001b[0m \u001b[0mnew_axis\u001b[0m\u001b[1;33m}\u001b[0m\u001b[1;33m)\u001b[0m\u001b[1;33m\u001b[0m\u001b[1;33m\u001b[0m\u001b[0m\n\u001b[0;32m   4187\u001b[0m \u001b[1;33m\u001b[0m\u001b[0m\n",
      "\u001b[1;32m~\\anaconda3\\lib\\site-packages\\pandas\\core\\indexes\\base.py\u001b[0m in \u001b[0;36mdrop\u001b[1;34m(self, labels, errors)\u001b[0m\n\u001b[0;32m   6015\u001b[0m         \u001b[1;32mif\u001b[0m \u001b[0mmask\u001b[0m\u001b[1;33m.\u001b[0m\u001b[0many\u001b[0m\u001b[1;33m(\u001b[0m\u001b[1;33m)\u001b[0m\u001b[1;33m:\u001b[0m\u001b[1;33m\u001b[0m\u001b[1;33m\u001b[0m\u001b[0m\n\u001b[0;32m   6016\u001b[0m             \u001b[1;32mif\u001b[0m \u001b[0merrors\u001b[0m \u001b[1;33m!=\u001b[0m \u001b[1;34m\"ignore\"\u001b[0m\u001b[1;33m:\u001b[0m\u001b[1;33m\u001b[0m\u001b[1;33m\u001b[0m\u001b[0m\n\u001b[1;32m-> 6017\u001b[1;33m                 \u001b[1;32mraise\u001b[0m \u001b[0mKeyError\u001b[0m\u001b[1;33m(\u001b[0m\u001b[1;34mf\"{labels[mask]} not found in axis\"\u001b[0m\u001b[1;33m)\u001b[0m\u001b[1;33m\u001b[0m\u001b[1;33m\u001b[0m\u001b[0m\n\u001b[0m\u001b[0;32m   6018\u001b[0m             \u001b[0mindexer\u001b[0m \u001b[1;33m=\u001b[0m \u001b[0mindexer\u001b[0m\u001b[1;33m[\u001b[0m\u001b[1;33m~\u001b[0m\u001b[0mmask\u001b[0m\u001b[1;33m]\u001b[0m\u001b[1;33m\u001b[0m\u001b[1;33m\u001b[0m\u001b[0m\n\u001b[0;32m   6019\u001b[0m         \u001b[1;32mreturn\u001b[0m \u001b[0mself\u001b[0m\u001b[1;33m.\u001b[0m\u001b[0mdelete\u001b[0m\u001b[1;33m(\u001b[0m\u001b[0mindexer\u001b[0m\u001b[1;33m)\u001b[0m\u001b[1;33m\u001b[0m\u001b[1;33m\u001b[0m\u001b[0m\n",
      "\u001b[1;31mKeyError\u001b[0m: '[3 5] not found in axis'"
     ]
    }
   ],
   "source": [
    "serie.drop(index=[3,5]) # '[3 5] not found in axis'"
   ]
  },
  {
   "cell_type": "code",
   "execution_count": 130,
   "id": "d153a447",
   "metadata": {},
   "outputs": [],
   "source": [
    "serie.drop(index=['f','i'], inplace=True)"
   ]
  },
  {
   "cell_type": "code",
   "execution_count": 131,
   "id": "041ecd63",
   "metadata": {},
   "outputs": [
    {
     "data": {
      "text/plain": [
       "a    6\n",
       "b    3\n",
       "c    7\n",
       "d    4\n",
       "e    6\n",
       "g    2\n",
       "h    6\n",
       "j    4\n",
       "dtype: int32"
      ]
     },
     "execution_count": 131,
     "metadata": {},
     "output_type": "execute_result"
    }
   ],
   "source": [
    "serie"
   ]
  },
  {
   "cell_type": "code",
   "execution_count": 136,
   "id": "7397ae84",
   "metadata": {},
   "outputs": [
    {
     "data": {
      "text/plain": [
       "0    6.0\n",
       "1    3.0\n",
       "2    NaN\n",
       "3    NaN\n",
       "4    6.0\n",
       "5    9.0\n",
       "6    2.0\n",
       "7    NaN\n",
       "8    7.0\n",
       "9    4.0\n",
       "dtype: float64"
      ]
     },
     "execution_count": 136,
     "metadata": {},
     "output_type": "execute_result"
    }
   ],
   "source": [
    "np.random.seed(42)\n",
    "\n",
    "serie = pd.Series(np.random.randint(10, size=10))\n",
    "serie.iloc[np.random.randint(10, size=4)] = np.nan\n",
    "serie"
   ]
  },
  {
   "cell_type": "code",
   "execution_count": 138,
   "id": "05be45d2",
   "metadata": {},
   "outputs": [],
   "source": [
    "serie.dropna(inplace=True)"
   ]
  },
  {
   "cell_type": "code",
   "execution_count": 139,
   "id": "9b330527",
   "metadata": {},
   "outputs": [
    {
     "data": {
      "text/plain": [
       "0    6.0\n",
       "1    3.0\n",
       "4    6.0\n",
       "5    9.0\n",
       "6    2.0\n",
       "8    7.0\n",
       "9    4.0\n",
       "dtype: float64"
      ]
     },
     "execution_count": 139,
     "metadata": {},
     "output_type": "execute_result"
    }
   ],
   "source": [
    "serie"
   ]
  },
  {
   "cell_type": "code",
   "execution_count": 144,
   "id": "97be10ac",
   "metadata": {},
   "outputs": [
    {
     "data": {
      "text/plain": [
       "0    6\n",
       "1    3\n",
       "2    7\n",
       "3    4\n",
       "4    6\n",
       "5    9\n",
       "6    2\n",
       "7    6\n",
       "8    7\n",
       "9    4\n",
       "dtype: int32"
      ]
     },
     "execution_count": 144,
     "metadata": {},
     "output_type": "execute_result"
    }
   ],
   "source": [
    "np.random.seed(42)\n",
    "\n",
    "serie = pd.Series(np.random.randint(10, size=10))\n",
    "serie"
   ]
  },
  {
   "cell_type": "code",
   "execution_count": 145,
   "id": "ae35c1a3",
   "metadata": {},
   "outputs": [
    {
     "data": {
      "text/plain": [
       "0    6\n",
       "1    3\n",
       "2    7\n",
       "3    4\n",
       "5    9\n",
       "6    2\n",
       "dtype: int32"
      ]
     },
     "execution_count": 145,
     "metadata": {},
     "output_type": "execute_result"
    }
   ],
   "source": [
    "serie.drop_duplicates()"
   ]
  },
  {
   "cell_type": "code",
   "execution_count": 146,
   "id": "c5b897e4",
   "metadata": {},
   "outputs": [
    {
     "data": {
      "text/plain": [
       "1    3\n",
       "5    9\n",
       "6    2\n",
       "7    6\n",
       "8    7\n",
       "9    4\n",
       "dtype: int32"
      ]
     },
     "execution_count": 146,
     "metadata": {},
     "output_type": "execute_result"
    }
   ],
   "source": [
    "serie.drop_duplicates(keep=\"last\")"
   ]
  },
  {
   "cell_type": "markdown",
   "id": "19f5d909",
   "metadata": {},
   "source": [
    "# Preenchimento de Nulos"
   ]
  },
  {
   "cell_type": "code",
   "execution_count": 147,
   "id": "d0687770",
   "metadata": {},
   "outputs": [
    {
     "data": {
      "text/plain": [
       "0    6.0\n",
       "1    3.0\n",
       "2    7.0\n",
       "3    NaN\n",
       "4    6.0\n",
       "5    9.0\n",
       "6    2.0\n",
       "7    NaN\n",
       "8    7.0\n",
       "9    4.0\n",
       "dtype: float64"
      ]
     },
     "execution_count": 147,
     "metadata": {},
     "output_type": "execute_result"
    }
   ],
   "source": [
    "np.random.seed(42)\n",
    "\n",
    "serie = pd.Series(np.random.randint(10, size=10))\n",
    "serie.iloc[np.random.randint(10, size=3)] = np.nan\n",
    "serie"
   ]
  },
  {
   "cell_type": "code",
   "execution_count": 148,
   "id": "a1f060b6",
   "metadata": {},
   "outputs": [
    {
     "data": {
      "text/plain": [
       "0    6.0\n",
       "1    3.0\n",
       "2    7.0\n",
       "3    0.0\n",
       "4    6.0\n",
       "5    9.0\n",
       "6    2.0\n",
       "7    0.0\n",
       "8    7.0\n",
       "9    4.0\n",
       "dtype: float64"
      ]
     },
     "execution_count": 148,
     "metadata": {},
     "output_type": "execute_result"
    }
   ],
   "source": [
    "serie.fillna(0)"
   ]
  },
  {
   "cell_type": "code",
   "execution_count": 149,
   "id": "127ad6c8",
   "metadata": {},
   "outputs": [],
   "source": [
    "serie.fillna(-1, inplace=True)"
   ]
  },
  {
   "cell_type": "code",
   "execution_count": 150,
   "id": "6468daad",
   "metadata": {},
   "outputs": [
    {
     "data": {
      "text/plain": [
       "0    6.0\n",
       "1    3.0\n",
       "2    7.0\n",
       "3   -1.0\n",
       "4    6.0\n",
       "5    9.0\n",
       "6    2.0\n",
       "7   -1.0\n",
       "8    7.0\n",
       "9    4.0\n",
       "dtype: float64"
      ]
     },
     "execution_count": 150,
     "metadata": {},
     "output_type": "execute_result"
    }
   ],
   "source": [
    "serie"
   ]
  },
  {
   "cell_type": "code",
   "execution_count": 151,
   "id": "26bef478",
   "metadata": {},
   "outputs": [],
   "source": [
    "serie.iloc[np.random.randint(10, size=3)] = np.nan"
   ]
  },
  {
   "cell_type": "code",
   "execution_count": 152,
   "id": "efdf818c",
   "metadata": {},
   "outputs": [
    {
     "data": {
      "text/plain": [
       "0    6.0\n",
       "1    3.0\n",
       "2    NaN\n",
       "3   -1.0\n",
       "4    NaN\n",
       "5    NaN\n",
       "6    2.0\n",
       "7   -1.0\n",
       "8    7.0\n",
       "9    4.0\n",
       "dtype: float64"
      ]
     },
     "execution_count": 152,
     "metadata": {},
     "output_type": "execute_result"
    }
   ],
   "source": [
    "serie"
   ]
  },
  {
   "cell_type": "code",
   "execution_count": 153,
   "id": "165e8269",
   "metadata": {},
   "outputs": [
    {
     "data": {
      "text/plain": [
       "0    6.0\n",
       "1    3.0\n",
       "2    3.0\n",
       "3   -1.0\n",
       "4   -1.0\n",
       "5   -1.0\n",
       "6    2.0\n",
       "7   -1.0\n",
       "8    7.0\n",
       "9    4.0\n",
       "dtype: float64"
      ]
     },
     "execution_count": 153,
     "metadata": {},
     "output_type": "execute_result"
    }
   ],
   "source": [
    "serie.ffill()"
   ]
  },
  {
   "cell_type": "code",
   "execution_count": 154,
   "id": "081c3aa2",
   "metadata": {},
   "outputs": [
    {
     "data": {
      "text/plain": [
       "0    6.0\n",
       "1    3.0\n",
       "2    NaN\n",
       "3   -1.0\n",
       "4    NaN\n",
       "5    NaN\n",
       "6    2.0\n",
       "7   -1.0\n",
       "8    7.0\n",
       "9    4.0\n",
       "dtype: float64"
      ]
     },
     "execution_count": 154,
     "metadata": {},
     "output_type": "execute_result"
    }
   ],
   "source": [
    "serie"
   ]
  },
  {
   "cell_type": "code",
   "execution_count": 155,
   "id": "2e1e294b",
   "metadata": {},
   "outputs": [
    {
     "data": {
      "text/plain": [
       "0    6.0\n",
       "1    3.0\n",
       "2   -1.0\n",
       "3   -1.0\n",
       "4    2.0\n",
       "5    2.0\n",
       "6    2.0\n",
       "7   -1.0\n",
       "8    7.0\n",
       "9    4.0\n",
       "dtype: float64"
      ]
     },
     "execution_count": 155,
     "metadata": {},
     "output_type": "execute_result"
    }
   ],
   "source": [
    "serie.bfill()"
   ]
  },
  {
   "cell_type": "markdown",
   "id": "bb421c3a",
   "metadata": {},
   "source": [
    "# Funções e Métodos"
   ]
  },
  {
   "cell_type": "code",
   "execution_count": 5,
   "id": "0e5e88d5",
   "metadata": {},
   "outputs": [],
   "source": [
    "np.random.seed(42)\n",
    "\n",
    "serie = pd.Series(data=np.random.randint(10, size=10))"
   ]
  },
  {
   "cell_type": "code",
   "execution_count": 6,
   "id": "22cdfc08",
   "metadata": {},
   "outputs": [
    {
     "data": {
      "text/plain": [
       "54"
      ]
     },
     "execution_count": 6,
     "metadata": {},
     "output_type": "execute_result"
    }
   ],
   "source": [
    "np.sum(serie)"
   ]
  },
  {
   "cell_type": "code",
   "execution_count": 7,
   "id": "3b504808",
   "metadata": {},
   "outputs": [
    {
     "data": {
      "text/plain": [
       "array([-3,  4, -3,  2,  3, -7,  4,  1, -3])"
      ]
     },
     "execution_count": 7,
     "metadata": {},
     "output_type": "execute_result"
    }
   ],
   "source": [
    "np.diff(serie)"
   ]
  },
  {
   "cell_type": "code",
   "execution_count": 8,
   "id": "8430901c",
   "metadata": {},
   "outputs": [
    {
     "data": {
      "text/plain": [
       "array([2, 3, 4, 6, 7, 9])"
      ]
     },
     "execution_count": 8,
     "metadata": {},
     "output_type": "execute_result"
    }
   ],
   "source": [
    "np.unique(serie)"
   ]
  },
  {
   "cell_type": "code",
   "execution_count": 9,
   "id": "7afc87e5",
   "metadata": {},
   "outputs": [
    {
     "data": {
      "text/plain": [
       "18.2208671582886"
      ]
     },
     "execution_count": 9,
     "metadata": {},
     "output_type": "execute_result"
    }
   ],
   "source": [
    "np.linalg.norm(serie)"
   ]
  },
  {
   "cell_type": "code",
   "execution_count": 10,
   "id": "e2f0c5c4",
   "metadata": {},
   "outputs": [
    {
     "data": {
      "text/plain": [
       "0   -0.279415\n",
       "1    0.141120\n",
       "2    0.656987\n",
       "3   -0.756802\n",
       "4   -0.279415\n",
       "5    0.412118\n",
       "6    0.909297\n",
       "7   -0.279415\n",
       "8    0.656987\n",
       "9   -0.756802\n",
       "dtype: float64"
      ]
     },
     "execution_count": 10,
     "metadata": {},
     "output_type": "execute_result"
    }
   ],
   "source": [
    "np.sin(serie)"
   ]
  },
  {
   "cell_type": "markdown",
   "id": "71f7d91f",
   "metadata": {},
   "source": [
    "Numpy             | Pandas     | Descrição                                                         | \n",
    ":-----------------|:-----------|:-------------------------------------------------------------------|\n",
    " np.mean          |  .mean     |  Calcula a média                                                   |\n",
    " np.median        |  .median   |  Calcula a mediana                                                 |\n",
    " np.min           |  .min      |  Calcula o valor mínimo                                            |\n",
    " np.max           |  .max      |  Calcula o valor máximo                                            |\n",
    " np.std           |  .std      |  Calcula o desvio-padrão                                           |\n",
    " np.var           |  .var      |  Calcula a variância                                               |\n",
    " np.percentile    |  .quantile |  Calcula o percentil específicado                                  |\n",
    " np.sum           |  .sum      |  Calcula a soma de todos os elementos                              |\n",
    " np.count_nonzero |  **N/A**   | Realiza a contagem dos elementos não zeros do array                |\n",
    " np.unique        |  .unique   |  Obtém os valores únicos de um array                               |\n",
    " np.ceil          |  **N/A**   |  Arredonda os valores de um array para cima                        |\n",
    " np.floor         |  **N/A**   |  Arredonda os valores de um array para baixo                       |\n",
    " np.round         |  .round    |  Arredonda os valores de um array para as casas decimais desejadas |\n",
    " np.trunc         |  .truncate |  Remove as casas decimais do valor numérico                        |\n",
    " np.abs           |  .abs      |  Calcula o valor absoluto dos elementos                            |\n",
    " np.sign          |  **N/A**   |  Obtém os sinais dos números de um array                           |\n",
    " np.diff          | .diff      | Obtém a diferença entre valores sequenciais do array               |\n",
    " np.cumsum        | .cumsum    | Obtém a soma dos valores cumulativos                               |\n",
    " np.cummin        | .cummin    | Obtém o valor mínimo cumulativo do array                           |\n",
    " np.cummax        | .cummax    | Obtém o valor máximo cumulativo do array                           |\n",
    " np.cumprod       | .cumprod   | Obtém o valor produto cumulativo do array                          |"
   ]
  },
  {
   "cell_type": "code",
   "execution_count": 14,
   "id": "a2320178",
   "metadata": {},
   "outputs": [
    {
     "name": "stdout",
     "output_type": "stream",
     "text": [
      "5.4 5.4\n"
     ]
    }
   ],
   "source": [
    "print(np.mean(serie), serie.mean())"
   ]
  },
  {
   "cell_type": "code",
   "execution_count": 17,
   "id": "961e3e62",
   "metadata": {},
   "outputs": [
    {
     "data": {
      "text/plain": [
       "0    6\n",
       "1    3\n",
       "2    7\n",
       "3    4\n",
       "4    6\n",
       "5    9\n",
       "6    2\n",
       "7    6\n",
       "8    7\n",
       "9    4\n",
       "dtype: int32"
      ]
     },
     "execution_count": 17,
     "metadata": {},
     "output_type": "execute_result"
    }
   ],
   "source": [
    "serie"
   ]
  },
  {
   "cell_type": "code",
   "execution_count": 16,
   "id": "0ba7c5b9",
   "metadata": {},
   "outputs": [
    {
     "data": {
      "text/plain": [
       "0.25    4.00\n",
       "0.50    6.00\n",
       "0.75    6.75\n",
       "dtype: float64"
      ]
     },
     "execution_count": 16,
     "metadata": {},
     "output_type": "execute_result"
    }
   ],
   "source": [
    "serie.quantile([0.25, 0.5, 0.75])"
   ]
  },
  {
   "cell_type": "code",
   "execution_count": 19,
   "id": "01e3a2ee",
   "metadata": {},
   "outputs": [
    {
     "data": {
      "text/plain": [
       "10"
      ]
     },
     "execution_count": 19,
     "metadata": {},
     "output_type": "execute_result"
    }
   ],
   "source": [
    "np.count_nonzero(serie) # 'Series' object has no attribute 'count_nonzero'"
   ]
  },
  {
   "cell_type": "code",
   "execution_count": 20,
   "id": "56af57b6",
   "metadata": {},
   "outputs": [
    {
     "data": {
      "text/plain": [
       "0    6\n",
       "1    3\n",
       "2    7\n",
       "3    0\n",
       "4    6\n",
       "5    9\n",
       "6    2\n",
       "7    0\n",
       "8    7\n",
       "9    4\n",
       "dtype: int32"
      ]
     },
     "execution_count": 20,
     "metadata": {},
     "output_type": "execute_result"
    }
   ],
   "source": [
    "serie[np.random.randint(10, size=3)] = 0\n",
    "serie"
   ]
  },
  {
   "cell_type": "code",
   "execution_count": 21,
   "id": "036cd8e9",
   "metadata": {},
   "outputs": [
    {
     "data": {
      "text/plain": [
       "8"
      ]
     },
     "execution_count": 21,
     "metadata": {},
     "output_type": "execute_result"
    }
   ],
   "source": [
    "np.count_nonzero(serie)"
   ]
  },
  {
   "cell_type": "markdown",
   "id": "a948d9c5",
   "metadata": {},
   "source": [
    "Há, entretanto, alguns outros métodos que são exclusivos do pandas, mas são muito úteis\n",
    "\n",
    "- .describe: Gera o resumo estatístico da série\n",
    "- .mode: O valor da moda da série\n",
    "- .count: Obtém a contagem de elementos não nulos\n",
    "- .nunique: Conta o total de elementos únicos\n",
    "- .value_counts: Produz o número de ocorrências de cada elemento na série\n",
    "- .clip: Força os elementos da série a estarem dentro de um determinado intervalo\n",
    "- .pct_change: Variação percentual entre elementos consecutivos da série\n",
    "- .shift: Desloca a série por um certo número de elementos"
   ]
  },
  {
   "cell_type": "code",
   "execution_count": 22,
   "id": "547222ce",
   "metadata": {},
   "outputs": [
    {
     "data": {
      "text/plain": [
       "count    10.000000\n",
       "mean      4.400000\n",
       "std       3.098387\n",
       "min       0.000000\n",
       "25%       2.250000\n",
       "50%       5.000000\n",
       "75%       6.750000\n",
       "max       9.000000\n",
       "dtype: float64"
      ]
     },
     "execution_count": 22,
     "metadata": {},
     "output_type": "execute_result"
    }
   ],
   "source": [
    "serie.describe()"
   ]
  },
  {
   "cell_type": "code",
   "execution_count": 23,
   "id": "0db4e021",
   "metadata": {},
   "outputs": [
    {
     "data": {
      "text/plain": [
       "0    0\n",
       "1    6\n",
       "2    7\n",
       "dtype: int32"
      ]
     },
     "execution_count": 23,
     "metadata": {},
     "output_type": "execute_result"
    }
   ],
   "source": [
    "serie.mode()"
   ]
  },
  {
   "cell_type": "code",
   "execution_count": 24,
   "id": "b41f3abb",
   "metadata": {},
   "outputs": [
    {
     "data": {
      "text/plain": [
       "10"
      ]
     },
     "execution_count": 24,
     "metadata": {},
     "output_type": "execute_result"
    }
   ],
   "source": [
    "serie.count()"
   ]
  },
  {
   "cell_type": "code",
   "execution_count": 25,
   "id": "9c51c4cb",
   "metadata": {},
   "outputs": [
    {
     "data": {
      "text/plain": [
       "array([6, 3, 7, 0, 9, 2, 4])"
      ]
     },
     "execution_count": 25,
     "metadata": {},
     "output_type": "execute_result"
    }
   ],
   "source": [
    "serie.unique()"
   ]
  },
  {
   "cell_type": "code",
   "execution_count": 26,
   "id": "24c8c902",
   "metadata": {},
   "outputs": [
    {
     "data": {
      "text/plain": [
       "6    2\n",
       "7    2\n",
       "0    2\n",
       "3    1\n",
       "9    1\n",
       "2    1\n",
       "4    1\n",
       "dtype: int64"
      ]
     },
     "execution_count": 26,
     "metadata": {},
     "output_type": "execute_result"
    }
   ],
   "source": [
    "serie.value_counts()"
   ]
  },
  {
   "cell_type": "code",
   "execution_count": 27,
   "id": "03b6760f",
   "metadata": {},
   "outputs": [
    {
     "data": {
      "text/plain": [
       "0    5\n",
       "1    3\n",
       "2    5\n",
       "3    3\n",
       "4    5\n",
       "5    5\n",
       "6    3\n",
       "7    3\n",
       "8    5\n",
       "9    4\n",
       "dtype: int32"
      ]
     },
     "execution_count": 27,
     "metadata": {},
     "output_type": "execute_result"
    }
   ],
   "source": [
    "serie.clip(3,5)"
   ]
  },
  {
   "cell_type": "code",
   "execution_count": 28,
   "id": "ae46b657",
   "metadata": {},
   "outputs": [
    {
     "data": {
      "text/plain": [
       "0         NaN\n",
       "1   -0.500000\n",
       "2    1.333333\n",
       "3   -1.000000\n",
       "4         inf\n",
       "5    0.500000\n",
       "6   -0.777778\n",
       "7   -1.000000\n",
       "8         inf\n",
       "9   -0.428571\n",
       "dtype: float64"
      ]
     },
     "execution_count": 28,
     "metadata": {},
     "output_type": "execute_result"
    }
   ],
   "source": [
    "serie.pct_change()"
   ]
  },
  {
   "cell_type": "code",
   "execution_count": 32,
   "id": "24510134",
   "metadata": {},
   "outputs": [
    {
     "data": {
      "text/plain": [
       "0    NaN\n",
       "1    6.0\n",
       "2    3.0\n",
       "3    7.0\n",
       "4    0.0\n",
       "5    6.0\n",
       "6    9.0\n",
       "7    2.0\n",
       "8    0.0\n",
       "9    7.0\n",
       "dtype: float64"
      ]
     },
     "execution_count": 32,
     "metadata": {},
     "output_type": "execute_result"
    }
   ],
   "source": [
    "serie.shift(1)"
   ]
  },
  {
   "cell_type": "code",
   "execution_count": 33,
   "id": "c5ae36c2",
   "metadata": {},
   "outputs": [
    {
     "data": {
      "text/plain": [
       "0    opa!\n",
       "1       3\n",
       "2       7\n",
       "3       0\n",
       "4    opa!\n",
       "5       9\n",
       "6       2\n",
       "7       0\n",
       "8       7\n",
       "9       4\n",
       "dtype: object"
      ]
     },
     "execution_count": 33,
     "metadata": {},
     "output_type": "execute_result"
    }
   ],
   "source": [
    "serie.replace({6:\"opa!\"})"
   ]
  },
  {
   "cell_type": "code",
   "execution_count": 35,
   "id": "0215d2d7",
   "metadata": {},
   "outputs": [
    {
     "data": {
      "text/plain": [
       "3    0\n",
       "7    0\n",
       "6    2\n",
       "1    3\n",
       "9    4\n",
       "0    6\n",
       "4    6\n",
       "2    7\n",
       "8    7\n",
       "5    9\n",
       "dtype: int32"
      ]
     },
     "execution_count": 35,
     "metadata": {},
     "output_type": "execute_result"
    }
   ],
   "source": [
    "serie.sort_values()"
   ]
  },
  {
   "cell_type": "markdown",
   "id": "c59e6c47",
   "metadata": {},
   "source": [
    "# Vetorização"
   ]
  },
  {
   "cell_type": "code",
   "execution_count": 36,
   "id": "d653dc38",
   "metadata": {},
   "outputs": [
    {
     "data": {
      "text/plain": [
       "0    6\n",
       "1    3\n",
       "2    7\n",
       "3    4\n",
       "4    6\n",
       "5    9\n",
       "6    2\n",
       "7    6\n",
       "8    7\n",
       "9    4\n",
       "dtype: int32"
      ]
     },
     "execution_count": 36,
     "metadata": {},
     "output_type": "execute_result"
    }
   ],
   "source": [
    "np.random.seed(42)\n",
    "\n",
    "serie = pd.Series(np.random.randint(10, size=10))\n",
    "serie"
   ]
  },
  {
   "cell_type": "code",
   "execution_count": 37,
   "id": "3a4da2de",
   "metadata": {},
   "outputs": [
    {
     "data": {
      "text/plain": [
       "0    1.0\n",
       "1    0.6\n",
       "2    1.0\n",
       "3    0.8\n",
       "4    1.0\n",
       "5    1.0\n",
       "6    0.4\n",
       "7    1.0\n",
       "8    1.0\n",
       "9    0.8\n",
       "dtype: float64"
      ]
     },
     "execution_count": 37,
     "metadata": {},
     "output_type": "execute_result"
    }
   ],
   "source": [
    "serie.apply(lambda x: 1 if x > 5 else x / 5)"
   ]
  },
  {
   "cell_type": "code",
   "execution_count": 38,
   "id": "216f0e46",
   "metadata": {},
   "outputs": [
    {
     "data": {
      "text/plain": [
       "0    1.0\n",
       "1    0.6\n",
       "2    1.0\n",
       "3    0.8\n",
       "4    1.0\n",
       "5    1.0\n",
       "6    0.4\n",
       "7    1.0\n",
       "8    1.0\n",
       "9    0.8\n",
       "dtype: float64"
      ]
     },
     "execution_count": 38,
     "metadata": {},
     "output_type": "execute_result"
    }
   ],
   "source": [
    "np.random.seed(42)\n",
    "\n",
    "serie = pd.Series(np.random.randint(10, size=10))\n",
    "serie.map(lambda x: 1 if x > 5 else x / 5)"
   ]
  },
  {
   "cell_type": "code",
   "execution_count": 39,
   "id": "c8058a99",
   "metadata": {},
   "outputs": [
    {
     "name": "stdout",
     "output_type": "stream",
     "text": [
      "47 µs ± 82.4 ns per loop (mean ± std. dev. of 7 runs, 10000 loops each)\n"
     ]
    }
   ],
   "source": [
    "%%timeit\n",
    "serie.map(lambda x: 1 if x > 5 else x / 5)"
   ]
  },
  {
   "cell_type": "code",
   "execution_count": 41,
   "id": "c649e4c0",
   "metadata": {},
   "outputs": [
    {
     "name": "stdout",
     "output_type": "stream",
     "text": [
      "102 µs ± 1.02 µs per loop (mean ± std. dev. of 7 runs, 10000 loops each)\n"
     ]
    }
   ],
   "source": [
    "%%timeit\n",
    "serie.apply(lambda x: 1 if x > 5 else x / 5)"
   ]
  },
  {
   "cell_type": "code",
   "execution_count": 42,
   "id": "4cc6a2be",
   "metadata": {},
   "outputs": [],
   "source": [
    "# Dada uma série de strings, calcule o número de vogais em cada uma"
   ]
  },
  {
   "cell_type": "code",
   "execution_count": 43,
   "id": "fdc1cc6c",
   "metadata": {},
   "outputs": [],
   "source": [
    "ser = pd.Series([\"Maça\", \"Laranja\", \"Plano\", \"Python\", \"Dinheiro\"])"
   ]
  },
  {
   "cell_type": "code",
   "execution_count": 47,
   "id": "473a1df7",
   "metadata": {},
   "outputs": [
    {
     "data": {
      "text/plain": [
       "0    2\n",
       "1    3\n",
       "2    2\n",
       "3    1\n",
       "4    4\n",
       "dtype: int64"
      ]
     },
     "execution_count": 47,
     "metadata": {},
     "output_type": "execute_result"
    }
   ],
   "source": [
    "ser.map(lambda x: sum([x.count(i) for i in list('aeiou')]))"
   ]
  },
  {
   "cell_type": "markdown",
   "id": "74e0982e",
   "metadata": {},
   "source": [
    "# Tipos de Dados"
   ]
  },
  {
   "cell_type": "markdown",
   "id": "4e104492",
   "metadata": {},
   "source": [
    "## Numéricos"
   ]
  },
  {
   "cell_type": "code",
   "execution_count": 48,
   "id": "26e87880",
   "metadata": {},
   "outputs": [],
   "source": [
    "np.random.seed(42)\n",
    "\n",
    "serie = pd.Series(np.random.randint(10, size=10))"
   ]
  },
  {
   "cell_type": "code",
   "execution_count": 49,
   "id": "a1e85082",
   "metadata": {},
   "outputs": [
    {
     "data": {
      "text/plain": [
       "0    6\n",
       "1    3\n",
       "2    7\n",
       "3    4\n",
       "4    6\n",
       "5    9\n",
       "6    2\n",
       "7    6\n",
       "8    7\n",
       "9    4\n",
       "dtype: int32"
      ]
     },
     "execution_count": 49,
     "metadata": {},
     "output_type": "execute_result"
    }
   ],
   "source": [
    "serie"
   ]
  },
  {
   "cell_type": "code",
   "execution_count": 50,
   "id": "99f6a4a2",
   "metadata": {},
   "outputs": [
    {
     "data": {
      "text/plain": [
       "0    6\n",
       "1    3\n",
       "2    7\n",
       "3    4\n",
       "4    6\n",
       "5    9\n",
       "6    2\n",
       "7    6\n",
       "8    7\n",
       "9    4\n",
       "dtype: int8"
      ]
     },
     "execution_count": 50,
     "metadata": {},
     "output_type": "execute_result"
    }
   ],
   "source": [
    "serie.astype(\"int8\")"
   ]
  },
  {
   "cell_type": "code",
   "execution_count": 51,
   "id": "89682b7f",
   "metadata": {},
   "outputs": [
    {
     "data": {
      "text/plain": [
       "0    6\n",
       "1    3\n",
       "2    7\n",
       "3    4\n",
       "4    6\n",
       "5    9\n",
       "6    2\n",
       "7    6\n",
       "8    7\n",
       "9    4\n",
       "dtype: uint8"
      ]
     },
     "execution_count": 51,
     "metadata": {},
     "output_type": "execute_result"
    }
   ],
   "source": [
    "serie.astype(\"uint8\")"
   ]
  },
  {
   "cell_type": "code",
   "execution_count": 52,
   "id": "4c44e2a2",
   "metadata": {},
   "outputs": [
    {
     "data": {
      "text/plain": [
       "0    6\n",
       "1    3\n",
       "2    7\n",
       "3    4\n",
       "4    6\n",
       "5    9\n",
       "6    2\n",
       "7    6\n",
       "8    7\n",
       "9    4\n",
       "dtype: int32"
      ]
     },
     "execution_count": 52,
     "metadata": {},
     "output_type": "execute_result"
    }
   ],
   "source": [
    "serie.astype(int)"
   ]
  },
  {
   "cell_type": "code",
   "execution_count": 53,
   "id": "b00eb8b3",
   "metadata": {},
   "outputs": [
    {
     "data": {
      "text/plain": [
       "0    6\n",
       "1    3\n",
       "2    7\n",
       "3    4\n",
       "4    6\n",
       "5    9\n",
       "6    2\n",
       "7    6\n",
       "8    7\n",
       "9    4\n",
       "dtype: int64"
      ]
     },
     "execution_count": 53,
     "metadata": {},
     "output_type": "execute_result"
    }
   ],
   "source": [
    "serie.astype(np.int64)"
   ]
  },
  {
   "cell_type": "code",
   "execution_count": 54,
   "id": "c3e24cd3",
   "metadata": {},
   "outputs": [
    {
     "data": {
      "text/plain": [
       "0    6\n",
       "1    3\n",
       "2    7\n",
       "3    4\n",
       "4    6\n",
       "5    9\n",
       "6    2\n",
       "7    6\n",
       "8    7\n",
       "9    4\n",
       "dtype: int32"
      ]
     },
     "execution_count": 54,
     "metadata": {},
     "output_type": "execute_result"
    }
   ],
   "source": [
    "serie"
   ]
  },
  {
   "cell_type": "markdown",
   "id": "d9ba3497",
   "metadata": {},
   "source": [
    "## String"
   ]
  },
  {
   "cell_type": "code",
   "execution_count": 55,
   "id": "ab0e6905",
   "metadata": {},
   "outputs": [],
   "source": [
    "ser = pd.Series([\"Maça\", \"Laranja\", \"Plano\", \"Python\", \"Dinheiro\"])"
   ]
  },
  {
   "cell_type": "code",
   "execution_count": 56,
   "id": "8263f58d",
   "metadata": {},
   "outputs": [
    {
     "data": {
      "text/plain": [
       "'MAÇÃ'"
      ]
     },
     "execution_count": 56,
     "metadata": {},
     "output_type": "execute_result"
    }
   ],
   "source": [
    "\"Maçã\".upper()"
   ]
  },
  {
   "cell_type": "code",
   "execution_count": 57,
   "id": "800e9bec",
   "metadata": {},
   "outputs": [
    {
     "data": {
      "text/plain": [
       "0        MAÇA\n",
       "1     LARANJA\n",
       "2       PLANO\n",
       "3      PYTHON\n",
       "4    DINHEIRO\n",
       "dtype: object"
      ]
     },
     "execution_count": 57,
     "metadata": {},
     "output_type": "execute_result"
    }
   ],
   "source": [
    "ser.str.upper()"
   ]
  },
  {
   "cell_type": "markdown",
   "id": "e9e89b07",
   "metadata": {},
   "source": [
    "Abaixo, apenas para relembrar, colocamos os principais métodos utilizados.\n",
    "\n",
    "- contains: Testa se a string contém um determinado padrão de expressão regular\n",
    "- count: Conta o número de ocorrências de uma substring dentro da string\n",
    "- find: Devolve o índice de ocorrência de uma substring dentro da string (devolve -1 se não for encontrado)\n",
    "- isalpha: Checa se todos os caracteres da string são letras\n",
    "- isdigit: Checa se a string é um número\n",
    "- len: Obtém o tamanho da string\n",
    "- strip: Elimina espaços vazios nos extremos da string\n",
    "- startswith: Checa se a string começa com uma determinada sub-string\n",
    "- upper: Converte a string para maiúsculo\n",
    "- lower: Converte a string para minúsculo\n",
    "- split: Divide a string de acordo com uma sub-string (cada elemento da série passará a ser uma lista)"
   ]
  },
  {
   "cell_type": "code",
   "execution_count": 58,
   "id": "434fff42",
   "metadata": {},
   "outputs": [
    {
     "data": {
      "text/plain": [
       "0     True\n",
       "1     True\n",
       "2     True\n",
       "3    False\n",
       "4    False\n",
       "dtype: bool"
      ]
     },
     "execution_count": 58,
     "metadata": {},
     "output_type": "execute_result"
    }
   ],
   "source": [
    "ser.str.contains(\"a\")"
   ]
  },
  {
   "cell_type": "code",
   "execution_count": 63,
   "id": "bcc63049",
   "metadata": {},
   "outputs": [
    {
     "data": {
      "text/plain": [
       "0    2\n",
       "1    3\n",
       "2    1\n",
       "3    0\n",
       "4    0\n",
       "dtype: int64"
      ]
     },
     "execution_count": 63,
     "metadata": {},
     "output_type": "execute_result"
    }
   ],
   "source": [
    "ser.str.count(\"a\")"
   ]
  },
  {
   "cell_type": "code",
   "execution_count": 65,
   "id": "f549b7ba",
   "metadata": {},
   "outputs": [
    {
     "data": {
      "text/plain": [
       "0    1\n",
       "1    1\n",
       "2    2\n",
       "3   -1\n",
       "4   -1\n",
       "dtype: int64"
      ]
     },
     "execution_count": 65,
     "metadata": {},
     "output_type": "execute_result"
    }
   ],
   "source": [
    "ser.str.find(\"a\")"
   ]
  },
  {
   "cell_type": "code",
   "execution_count": 66,
   "id": "5a0f1f55",
   "metadata": {},
   "outputs": [
    {
     "data": {
      "text/plain": [
       "0    True\n",
       "1    True\n",
       "2    True\n",
       "3    True\n",
       "4    True\n",
       "dtype: bool"
      ]
     },
     "execution_count": 66,
     "metadata": {},
     "output_type": "execute_result"
    }
   ],
   "source": [
    "ser.str.isalpha()"
   ]
  },
  {
   "cell_type": "code",
   "execution_count": 67,
   "id": "a159b0dc",
   "metadata": {},
   "outputs": [
    {
     "data": {
      "text/plain": [
       "0    False\n",
       "1    False\n",
       "2    False\n",
       "3    False\n",
       "4    False\n",
       "dtype: bool"
      ]
     },
     "execution_count": 67,
     "metadata": {},
     "output_type": "execute_result"
    }
   ],
   "source": [
    "ser.str.isdigit()"
   ]
  },
  {
   "cell_type": "code",
   "execution_count": 68,
   "id": "9cbfec07",
   "metadata": {},
   "outputs": [
    {
     "data": {
      "text/plain": [
       "0    4\n",
       "1    7\n",
       "2    5\n",
       "3    6\n",
       "4    8\n",
       "dtype: int64"
      ]
     },
     "execution_count": 68,
     "metadata": {},
     "output_type": "execute_result"
    }
   ],
   "source": [
    "ser.str.len()"
   ]
  },
  {
   "cell_type": "code",
   "execution_count": 69,
   "id": "670bc57a",
   "metadata": {},
   "outputs": [
    {
     "data": {
      "text/plain": [
       "0        Maça\n",
       "1     Laranja\n",
       "2       Plano\n",
       "3      Python\n",
       "4    Dinheiro\n",
       "dtype: object"
      ]
     },
     "execution_count": 69,
     "metadata": {},
     "output_type": "execute_result"
    }
   ],
   "source": [
    "ser.str.strip()"
   ]
  },
  {
   "cell_type": "code",
   "execution_count": 70,
   "id": "621d8dc1",
   "metadata": {},
   "outputs": [
    {
     "data": {
      "text/plain": [
       "0    False\n",
       "1    False\n",
       "2     True\n",
       "3     True\n",
       "4    False\n",
       "dtype: bool"
      ]
     },
     "execution_count": 70,
     "metadata": {},
     "output_type": "execute_result"
    }
   ],
   "source": [
    "ser.str.startswith(\"P\")"
   ]
  },
  {
   "cell_type": "code",
   "execution_count": 71,
   "id": "acfc0a8c",
   "metadata": {},
   "outputs": [
    {
     "data": {
      "text/plain": [
       "0        maça\n",
       "1     laranja\n",
       "2       plano\n",
       "3      python\n",
       "4    dinheiro\n",
       "dtype: object"
      ]
     },
     "execution_count": 71,
     "metadata": {},
     "output_type": "execute_result"
    }
   ],
   "source": [
    "ser.str.lower()"
   ]
  },
  {
   "cell_type": "code",
   "execution_count": 72,
   "id": "46c41310",
   "metadata": {},
   "outputs": [
    {
     "data": {
      "text/plain": [
       "0        [M, ç, ]\n",
       "1    [L, r, nj, ]\n",
       "2        [Pl, no]\n",
       "3        [Python]\n",
       "4      [Dinheiro]\n",
       "dtype: object"
      ]
     },
     "execution_count": 72,
     "metadata": {},
     "output_type": "execute_result"
    }
   ],
   "source": [
    "ser.str.split(\"a\")"
   ]
  },
  {
   "cell_type": "code",
   "execution_count": 73,
   "id": "4b8dd6cf",
   "metadata": {},
   "outputs": [
    {
     "data": {
      "text/plain": [
       "0    Maç\n",
       "1    Lar\n",
       "2    Pla\n",
       "3    Pyt\n",
       "4    Din\n",
       "dtype: object"
      ]
     },
     "execution_count": 73,
     "metadata": {},
     "output_type": "execute_result"
    }
   ],
   "source": [
    "ser.str[:3]"
   ]
  },
  {
   "cell_type": "code",
   "execution_count": 74,
   "id": "79e1f03c",
   "metadata": {},
   "outputs": [
    {
     "data": {
      "text/plain": [
       "0        açaM\n",
       "1     ajnaraL\n",
       "2       onalP\n",
       "3      nohtyP\n",
       "4    oriehniD\n",
       "dtype: object"
      ]
     },
     "execution_count": 74,
     "metadata": {},
     "output_type": "execute_result"
    }
   ],
   "source": [
    "ser.str[::-1]"
   ]
  },
  {
   "cell_type": "code",
   "execution_count": 76,
   "id": "b986e1ee",
   "metadata": {},
   "outputs": [
    {
     "data": {
      "text/plain": [
       "0    a\n",
       "1    a\n",
       "2    o\n",
       "3    n\n",
       "4    o\n",
       "dtype: object"
      ]
     },
     "execution_count": 76,
     "metadata": {},
     "output_type": "execute_result"
    }
   ],
   "source": [
    "ser.str[-1]"
   ]
  },
  {
   "cell_type": "markdown",
   "id": "14ec16d1",
   "metadata": {},
   "source": [
    "## Objetos"
   ]
  },
  {
   "cell_type": "code",
   "execution_count": 78,
   "id": "e28d1df8",
   "metadata": {},
   "outputs": [
    {
     "data": {
      "text/plain": [
       "0    [Olá, prazer]\n",
       "1       [a, noite]\n",
       "2       [é, nossa]\n",
       "dtype: object"
      ]
     },
     "execution_count": 78,
     "metadata": {},
     "output_type": "execute_result"
    }
   ],
   "source": [
    "serl = pd.Series([[\"Olá\", \"prazer\"], [\"a\", \"noite\"], [\"é\", \"nossa\"]])\n",
    "serl"
   ]
  },
  {
   "cell_type": "code",
   "execution_count": 79,
   "id": "d243c256",
   "metadata": {},
   "outputs": [
    {
     "data": {
      "text/plain": [
       "0      {'Quando': 'Hoje'}\n",
       "1     {'Onde': 'Meu ape'}\n",
       "2    {'Pode': 'Aparecer'}\n",
       "dtype: object"
      ]
     },
     "execution_count": 79,
     "metadata": {},
     "output_type": "execute_result"
    }
   ],
   "source": [
    "serd = pd.Series([{\"Quando\": \"Hoje\"}, {\"Onde\": \"Meu ape\"}, {\"Pode\": \"Aparecer\"}])\n",
    "serd"
   ]
  },
  {
   "cell_type": "code",
   "execution_count": 80,
   "id": "9eb5465f",
   "metadata": {},
   "outputs": [
    {
     "data": {
      "text/plain": [
       "0                  {Festa}\n",
       "1     {Birita, Tem, Festa}\n",
       "2    {Até, Tem, Amanhacer}\n",
       "dtype: object"
      ]
     },
     "execution_count": 80,
     "metadata": {},
     "output_type": "execute_result"
    }
   ],
   "source": [
    "sers = pd.Series([{\"Festa\"}, {\"Festa\", \"Tem\", \"Birita\"}, {\"Tem\", \"Até\", \"Amanhacer\"}])\n",
    "sers"
   ]
  },
  {
   "cell_type": "code",
   "execution_count": 81,
   "id": "7f22ba10",
   "metadata": {},
   "outputs": [
    {
     "data": {
      "text/plain": [
       "['Olá', 'prazer', 'a', 'noite']"
      ]
     },
     "execution_count": 81,
     "metadata": {},
     "output_type": "execute_result"
    }
   ],
   "source": [
    "[\"Olá\", \"prazer\"] + [\"a\", \"noite\"]"
   ]
  },
  {
   "cell_type": "code",
   "execution_count": 82,
   "id": "dcf0dbea",
   "metadata": {},
   "outputs": [
    {
     "data": {
      "text/plain": [
       "0    [Olá, prazer, Olá, prazer]\n",
       "1          [a, noite, a, noite]\n",
       "2          [é, nossa, é, nossa]\n",
       "dtype: object"
      ]
     },
     "execution_count": 82,
     "metadata": {},
     "output_type": "execute_result"
    }
   ],
   "source": [
    "serl + serl"
   ]
  },
  {
   "cell_type": "code",
   "execution_count": 83,
   "id": "7bf597c6",
   "metadata": {},
   "outputs": [
    {
     "data": {
      "text/plain": [
       "['Olá', 'prazer', 'a', 'noite', 'é', 'nossa']"
      ]
     },
     "execution_count": 83,
     "metadata": {},
     "output_type": "execute_result"
    }
   ],
   "source": [
    "serl.sum()"
   ]
  },
  {
   "cell_type": "code",
   "execution_count": 87,
   "id": "edc9d752",
   "metadata": {},
   "outputs": [
    {
     "data": {
      "text/plain": [
       "0                        [Olá, prazer]\n",
       "1              [Olá, prazer, a, noite]\n",
       "2    [Olá, prazer, a, noite, é, nossa]\n",
       "dtype: object"
      ]
     },
     "execution_count": 87,
     "metadata": {},
     "output_type": "execute_result"
    }
   ],
   "source": [
    "serl.cumsum()"
   ]
  },
  {
   "cell_type": "code",
   "execution_count": 88,
   "id": "2324d8a7",
   "metadata": {
    "collapsed": true
   },
   "outputs": [
    {
     "ename": "TypeError",
     "evalue": "unsupported operand type(s) for -: 'list' and 'list'",
     "output_type": "error",
     "traceback": [
      "\u001b[1;31m---------------------------------------------------------------------------\u001b[0m",
      "\u001b[1;31mTypeError\u001b[0m                                 Traceback (most recent call last)",
      "\u001b[1;32m~\\AppData\\Local\\Temp/ipykernel_2708/4148082536.py\u001b[0m in \u001b[0;36m<module>\u001b[1;34m\u001b[0m\n\u001b[1;32m----> 1\u001b[1;33m \u001b[0mserl\u001b[0m\u001b[1;33m.\u001b[0m\u001b[0mdiff\u001b[0m\u001b[1;33m(\u001b[0m\u001b[1;33m)\u001b[0m\u001b[1;33m\u001b[0m\u001b[1;33m\u001b[0m\u001b[0m\n\u001b[0m",
      "\u001b[1;32m~\\anaconda3\\lib\\site-packages\\pandas\\core\\series.py\u001b[0m in \u001b[0;36mdiff\u001b[1;34m(self, periods)\u001b[0m\n\u001b[0;32m   2646\u001b[0m         \u001b[1;33m{\u001b[0m\u001b[0mexamples\u001b[0m\u001b[1;33m}\u001b[0m\u001b[1;33m\u001b[0m\u001b[1;33m\u001b[0m\u001b[0m\n\u001b[0;32m   2647\u001b[0m         \"\"\"\n\u001b[1;32m-> 2648\u001b[1;33m         \u001b[0mresult\u001b[0m \u001b[1;33m=\u001b[0m \u001b[0malgorithms\u001b[0m\u001b[1;33m.\u001b[0m\u001b[0mdiff\u001b[0m\u001b[1;33m(\u001b[0m\u001b[0mself\u001b[0m\u001b[1;33m.\u001b[0m\u001b[0m_values\u001b[0m\u001b[1;33m,\u001b[0m \u001b[0mperiods\u001b[0m\u001b[1;33m)\u001b[0m\u001b[1;33m\u001b[0m\u001b[1;33m\u001b[0m\u001b[0m\n\u001b[0m\u001b[0;32m   2649\u001b[0m         return self._constructor(result, index=self.index).__finalize__(\n\u001b[0;32m   2650\u001b[0m             \u001b[0mself\u001b[0m\u001b[1;33m,\u001b[0m \u001b[0mmethod\u001b[0m\u001b[1;33m=\u001b[0m\u001b[1;34m\"diff\"\u001b[0m\u001b[1;33m\u001b[0m\u001b[1;33m\u001b[0m\u001b[0m\n",
      "\u001b[1;32m~\\anaconda3\\lib\\site-packages\\pandas\\core\\algorithms.py\u001b[0m in \u001b[0;36mdiff\u001b[1;34m(arr, n, axis, stacklevel)\u001b[0m\n\u001b[0;32m   1709\u001b[0m         \u001b[0mlag_indexer\u001b[0m \u001b[1;33m=\u001b[0m \u001b[0mtuple\u001b[0m\u001b[1;33m(\u001b[0m\u001b[0m_lag_indexer\u001b[0m\u001b[1;33m)\u001b[0m\u001b[1;33m\u001b[0m\u001b[1;33m\u001b[0m\u001b[0m\n\u001b[0;32m   1710\u001b[0m \u001b[1;33m\u001b[0m\u001b[0m\n\u001b[1;32m-> 1711\u001b[1;33m         \u001b[0mout_arr\u001b[0m\u001b[1;33m[\u001b[0m\u001b[0mres_indexer\u001b[0m\u001b[1;33m]\u001b[0m \u001b[1;33m=\u001b[0m \u001b[0mop\u001b[0m\u001b[1;33m(\u001b[0m\u001b[0marr\u001b[0m\u001b[1;33m[\u001b[0m\u001b[0mres_indexer\u001b[0m\u001b[1;33m]\u001b[0m\u001b[1;33m,\u001b[0m \u001b[0marr\u001b[0m\u001b[1;33m[\u001b[0m\u001b[0mlag_indexer\u001b[0m\u001b[1;33m]\u001b[0m\u001b[1;33m)\u001b[0m\u001b[1;33m\u001b[0m\u001b[1;33m\u001b[0m\u001b[0m\n\u001b[0m\u001b[0;32m   1712\u001b[0m \u001b[1;33m\u001b[0m\u001b[0m\n\u001b[0;32m   1713\u001b[0m     \u001b[1;32mif\u001b[0m \u001b[0mis_timedelta\u001b[0m\u001b[1;33m:\u001b[0m\u001b[1;33m\u001b[0m\u001b[1;33m\u001b[0m\u001b[0m\n",
      "\u001b[1;31mTypeError\u001b[0m: unsupported operand type(s) for -: 'list' and 'list'"
     ]
    }
   ],
   "source": [
    "serl.diff() # unsupported operand type(s) for -: 'list' and 'list'"
   ]
  },
  {
   "cell_type": "code",
   "execution_count": 89,
   "id": "64e3e031",
   "metadata": {},
   "outputs": [
    {
     "data": {
      "text/plain": [
       "0                 NaN\n",
       "1       {Birita, Tem}\n",
       "2    {Até, Amanhacer}\n",
       "dtype: object"
      ]
     },
     "execution_count": 89,
     "metadata": {},
     "output_type": "execute_result"
    }
   ],
   "source": [
    "sers.diff()"
   ]
  },
  {
   "cell_type": "markdown",
   "id": "d570bde6",
   "metadata": {},
   "source": [
    "# Categóricos"
   ]
  },
  {
   "cell_type": "code",
   "execution_count": 90,
   "id": "1c6dc186",
   "metadata": {},
   "outputs": [
    {
     "data": {
      "text/plain": [
       "0      Vermelho\n",
       "1          Azul\n",
       "2      Vermelho\n",
       "3      Vermelho\n",
       "4          Azul\n",
       "         ...   \n",
       "995     Amarelo\n",
       "996     Amarelo\n",
       "997    Vermelho\n",
       "998    Vermelho\n",
       "999        Azul\n",
       "Length: 1000, dtype: object"
      ]
     },
     "execution_count": 90,
     "metadata": {},
     "output_type": "execute_result"
    }
   ],
   "source": [
    "np.random.seed(42)\n",
    "\n",
    "ser = pd.Series(np.random.choice([\"Azul\", \"Amarelo\", \"Vermelho\"], size=1000))\n",
    "ser"
   ]
  },
  {
   "cell_type": "code",
   "execution_count": 91,
   "id": "1a9ea071",
   "metadata": {},
   "outputs": [
    {
     "data": {
      "text/plain": [
       "0      Vermelho\n",
       "1          Azul\n",
       "2      Vermelho\n",
       "3      Vermelho\n",
       "4          Azul\n",
       "         ...   \n",
       "995     Amarelo\n",
       "996     Amarelo\n",
       "997    Vermelho\n",
       "998    Vermelho\n",
       "999        Azul\n",
       "Length: 1000, dtype: category\n",
       "Categories (3, object): ['Amarelo', 'Azul', 'Vermelho']"
      ]
     },
     "execution_count": 91,
     "metadata": {},
     "output_type": "execute_result"
    }
   ],
   "source": [
    "serc = ser.astype(\"category\")\n",
    "serc"
   ]
  },
  {
   "cell_type": "code",
   "execution_count": 92,
   "id": "40e3d6d7",
   "metadata": {},
   "outputs": [
    {
     "data": {
      "text/plain": [
       "8128"
      ]
     },
     "execution_count": 92,
     "metadata": {},
     "output_type": "execute_result"
    }
   ],
   "source": [
    "ser.memory_usage()"
   ]
  },
  {
   "cell_type": "code",
   "execution_count": 94,
   "id": "0fa05121",
   "metadata": {},
   "outputs": [
    {
     "data": {
      "text/plain": [
       "1260"
      ]
     },
     "execution_count": 94,
     "metadata": {},
     "output_type": "execute_result"
    }
   ],
   "source": [
    "serc.memory_usage()"
   ]
  },
  {
   "cell_type": "code",
   "execution_count": 95,
   "id": "08b9afed",
   "metadata": {},
   "outputs": [
    {
     "data": {
      "text/plain": [
       "0      Vermelho\n",
       "2      Vermelho\n",
       "3      Vermelho\n",
       "6      Vermelho\n",
       "8      Vermelho\n",
       "         ...   \n",
       "980    Vermelho\n",
       "991    Vermelho\n",
       "993    Vermelho\n",
       "997    Vermelho\n",
       "998    Vermelho\n",
       "Length: 319, dtype: category\n",
       "Categories (3, object): ['Amarelo', 'Azul', 'Vermelho']"
      ]
     },
     "execution_count": 95,
     "metadata": {},
     "output_type": "execute_result"
    }
   ],
   "source": [
    "serc[serc == \"Vermelho\"]"
   ]
  },
  {
   "cell_type": "markdown",
   "id": "566cd7f4",
   "metadata": {},
   "source": [
    "E podemos inclusive aplicar as funcionalidades de strings, entretanto neste caso, internamente o pandas irá converter a coluna de volta para o tipo de texto e então aplicar a função pedida"
   ]
  },
  {
   "cell_type": "code",
   "execution_count": 96,
   "id": "4ba2a81c",
   "metadata": {},
   "outputs": [
    {
     "data": {
      "text/plain": [
       "0      VERMELHO\n",
       "1          AZUL\n",
       "2      VERMELHO\n",
       "3      VERMELHO\n",
       "4          AZUL\n",
       "         ...   \n",
       "995     AMARELO\n",
       "996     AMARELO\n",
       "997    VERMELHO\n",
       "998    VERMELHO\n",
       "999        AZUL\n",
       "Length: 1000, dtype: object"
      ]
     },
     "execution_count": 96,
     "metadata": {},
     "output_type": "execute_result"
    }
   ],
   "source": [
    "serc.str.upper()"
   ]
  },
  {
   "cell_type": "code",
   "execution_count": 97,
   "id": "870650cf",
   "metadata": {},
   "outputs": [
    {
     "data": {
      "text/plain": [
       "0       True\n",
       "1      False\n",
       "2       True\n",
       "3       True\n",
       "4      False\n",
       "       ...  \n",
       "995    False\n",
       "996    False\n",
       "997     True\n",
       "998     True\n",
       "999    False\n",
       "Length: 1000, dtype: bool"
      ]
     },
     "execution_count": 97,
     "metadata": {},
     "output_type": "execute_result"
    }
   ],
   "source": [
    "serc.str.contains(\"V\")"
   ]
  },
  {
   "cell_type": "code",
   "execution_count": 98,
   "id": "d6bdfe8d",
   "metadata": {},
   "outputs": [
    {
     "data": {
      "text/plain": [
       "0      Vermelho\n",
       "1          Azul\n",
       "2      Vermelho\n",
       "3      Vermelho\n",
       "4          Azul\n",
       "         ...   \n",
       "995     Amarelo\n",
       "996     Amarelo\n",
       "997    Vermelho\n",
       "998    Vermelho\n",
       "999        Azul\n",
       "Length: 1000, dtype: category\n",
       "Categories (4, object): ['Amarelo', 'Azul', 'Verde', 'Vermelho']"
      ]
     },
     "execution_count": 98,
     "metadata": {},
     "output_type": "execute_result"
    }
   ],
   "source": [
    "categoria = pd.Categorical([\"Azul\", \"Amarelo\", \"Vermelho\", \"Verde\"])\n",
    "ser.astype(categoria.dtype)"
   ]
  },
  {
   "cell_type": "markdown",
   "id": "4688cd66",
   "metadata": {},
   "source": [
    "# [...]"
   ]
  },
  {
   "cell_type": "markdown",
   "id": "ad242fa7",
   "metadata": {},
   "source": [
    "<hr>\n",
    "\n",
    "# DataFrame\n",
    "\n",
    "<hr>"
   ]
  },
  {
   "cell_type": "code",
   "execution_count": 4,
   "id": "839ca087",
   "metadata": {},
   "outputs": [],
   "source": [
    "import pandas as pd\n",
    "import numpy as np\n",
    "from pyarrow.lib import ArrowInvalid"
   ]
  },
  {
   "cell_type": "code",
   "execution_count": 5,
   "id": "d733ca63",
   "metadata": {},
   "outputs": [],
   "source": [
    "df1 = pd.read_parquet(\"dados/escola2020.parquet\")\n",
    "df2 = pd.read_parquet(\"dados/turma2020.parquet\")\n",
    "df3 = pd.read_parquet(\"dados/ideb.parquet\")"
   ]
  },
  {
   "cell_type": "code",
   "execution_count": 6,
   "id": "ebbf49be",
   "metadata": {},
   "outputs": [
    {
     "data": {
      "text/html": [
       "<div>\n",
       "<style scoped>\n",
       "    .dataframe tbody tr th:only-of-type {\n",
       "        vertical-align: middle;\n",
       "    }\n",
       "\n",
       "    .dataframe tbody tr th {\n",
       "        vertical-align: top;\n",
       "    }\n",
       "\n",
       "    .dataframe thead th {\n",
       "        text-align: right;\n",
       "    }\n",
       "</style>\n",
       "<table border=\"1\" class=\"dataframe\">\n",
       "  <thead>\n",
       "    <tr style=\"text-align: right;\">\n",
       "      <th></th>\n",
       "      <th>ID_ESCOLA</th>\n",
       "      <th>CO_MUNICIPIO</th>\n",
       "      <th>CO_DISTRITO</th>\n",
       "      <th>CO_ESCOLA_SEDE_VINCULADA</th>\n",
       "      <th>CO_IES_OFERTANTE</th>\n",
       "      <th>CO_LINGUA_INDIGENA_1</th>\n",
       "      <th>CO_LINGUA_INDIGENA_2</th>\n",
       "      <th>CO_LINGUA_INDIGENA_3</th>\n",
       "      <th>DT_ANO_LETIVO_INICIO</th>\n",
       "      <th>DT_ANO_LETIVO_TERMINO</th>\n",
       "      <th>...</th>\n",
       "      <th>TP_MANT_ESCOLA_PRIVADA_SIST_S</th>\n",
       "      <th>TP_MANT_ESCOLA_PRIVADA_S_FINS</th>\n",
       "      <th>TP_MANT_ESCOLA_PRIV_ONG_OSCIP</th>\n",
       "      <th>TP_OCUPACAO_GALPAO</th>\n",
       "      <th>TP_OCUPACAO_PREDIO_ESCOLAR</th>\n",
       "      <th>TP_PROPOSTA_PEDAGOGICA</th>\n",
       "      <th>TP_REDE_LOCAL</th>\n",
       "      <th>TP_REGULAMENTACAO</th>\n",
       "      <th>TP_RESPONSAVEL_REGULAMENTACAO</th>\n",
       "      <th>TP_SITUACAO_FUNCIONAMENTO</th>\n",
       "    </tr>\n",
       "  </thead>\n",
       "  <tbody>\n",
       "    <tr>\n",
       "      <th>0</th>\n",
       "      <td>11000023</td>\n",
       "      <td>1100205</td>\n",
       "      <td>110020505</td>\n",
       "      <td>NaN</td>\n",
       "      <td>NaN</td>\n",
       "      <td>NaN</td>\n",
       "      <td>NaN</td>\n",
       "      <td>NaN</td>\n",
       "      <td>2020-02-06</td>\n",
       "      <td>2020-12-15</td>\n",
       "      <td>...</td>\n",
       "      <td>PÚBLICA</td>\n",
       "      <td>PÚBLICA</td>\n",
       "      <td>PÚBLICA</td>\n",
       "      <td>NaN</td>\n",
       "      <td>ALUGADO</td>\n",
       "      <td>SIM</td>\n",
       "      <td>WIRELESS</td>\n",
       "      <td>NÃO</td>\n",
       "      <td>NaN</td>\n",
       "      <td>EM ATIVIDADE</td>\n",
       "    </tr>\n",
       "    <tr>\n",
       "      <th>1</th>\n",
       "      <td>11000040</td>\n",
       "      <td>1100205</td>\n",
       "      <td>110020505</td>\n",
       "      <td>NaN</td>\n",
       "      <td>NaN</td>\n",
       "      <td>NaN</td>\n",
       "      <td>NaN</td>\n",
       "      <td>NaN</td>\n",
       "      <td>2020-02-06</td>\n",
       "      <td>2020-12-23</td>\n",
       "      <td>...</td>\n",
       "      <td>PÚBLICA</td>\n",
       "      <td>PÚBLICA</td>\n",
       "      <td>PÚBLICA</td>\n",
       "      <td>NaN</td>\n",
       "      <td>PRÓPRIO</td>\n",
       "      <td>SIM</td>\n",
       "      <td>NÃO HÁ REDE LOCAL INTERLIGANDO COMPUTADORES</td>\n",
       "      <td>SIM</td>\n",
       "      <td>MUNICIPAL</td>\n",
       "      <td>EM ATIVIDADE</td>\n",
       "    </tr>\n",
       "    <tr>\n",
       "      <th>2</th>\n",
       "      <td>11000058</td>\n",
       "      <td>1100205</td>\n",
       "      <td>110020505</td>\n",
       "      <td>NaN</td>\n",
       "      <td>NaN</td>\n",
       "      <td>NaN</td>\n",
       "      <td>NaN</td>\n",
       "      <td>NaN</td>\n",
       "      <td>2020-02-03</td>\n",
       "      <td>2020-12-11</td>\n",
       "      <td>...</td>\n",
       "      <td>NÃO</td>\n",
       "      <td>NÃO</td>\n",
       "      <td>NÃO</td>\n",
       "      <td>NaN</td>\n",
       "      <td>PRÓPRIO</td>\n",
       "      <td>SIM</td>\n",
       "      <td>A CABO E WIRELESS</td>\n",
       "      <td>SIM</td>\n",
       "      <td>ESTADUAL</td>\n",
       "      <td>EM ATIVIDADE</td>\n",
       "    </tr>\n",
       "    <tr>\n",
       "      <th>3</th>\n",
       "      <td>11000082</td>\n",
       "      <td>1100205</td>\n",
       "      <td>110020505</td>\n",
       "      <td>NaN</td>\n",
       "      <td>NaN</td>\n",
       "      <td>NaN</td>\n",
       "      <td>NaN</td>\n",
       "      <td>NaN</td>\n",
       "      <td>2020-02-03</td>\n",
       "      <td>2020-12-04</td>\n",
       "      <td>...</td>\n",
       "      <td>NÃO</td>\n",
       "      <td>NÃO</td>\n",
       "      <td>NÃO</td>\n",
       "      <td>NaN</td>\n",
       "      <td>PRÓPRIO</td>\n",
       "      <td>SIM</td>\n",
       "      <td>WIRELESS</td>\n",
       "      <td>SIM</td>\n",
       "      <td>ESTADUAL</td>\n",
       "      <td>EM ATIVIDADE</td>\n",
       "    </tr>\n",
       "    <tr>\n",
       "      <th>4</th>\n",
       "      <td>11000104</td>\n",
       "      <td>1100205</td>\n",
       "      <td>110020505</td>\n",
       "      <td>NaN</td>\n",
       "      <td>NaN</td>\n",
       "      <td>NaN</td>\n",
       "      <td>NaN</td>\n",
       "      <td>NaN</td>\n",
       "      <td>2020-02-03</td>\n",
       "      <td>2020-12-15</td>\n",
       "      <td>...</td>\n",
       "      <td>NÃO</td>\n",
       "      <td>NÃO</td>\n",
       "      <td>NÃO</td>\n",
       "      <td>NaN</td>\n",
       "      <td>PRÓPRIO</td>\n",
       "      <td>SIM</td>\n",
       "      <td>A CABO E WIRELESS</td>\n",
       "      <td>SIM</td>\n",
       "      <td>ESTADUAL</td>\n",
       "      <td>EM ATIVIDADE</td>\n",
       "    </tr>\n",
       "    <tr>\n",
       "      <th>...</th>\n",
       "      <td>...</td>\n",
       "      <td>...</td>\n",
       "      <td>...</td>\n",
       "      <td>...</td>\n",
       "      <td>...</td>\n",
       "      <td>...</td>\n",
       "      <td>...</td>\n",
       "      <td>...</td>\n",
       "      <td>...</td>\n",
       "      <td>...</td>\n",
       "      <td>...</td>\n",
       "      <td>...</td>\n",
       "      <td>...</td>\n",
       "      <td>...</td>\n",
       "      <td>...</td>\n",
       "      <td>...</td>\n",
       "      <td>...</td>\n",
       "      <td>...</td>\n",
       "      <td>...</td>\n",
       "      <td>...</td>\n",
       "      <td>...</td>\n",
       "    </tr>\n",
       "    <tr>\n",
       "      <th>224224</th>\n",
       "      <td>53084071</td>\n",
       "      <td>5300108</td>\n",
       "      <td>530010805</td>\n",
       "      <td>NaN</td>\n",
       "      <td>NaN</td>\n",
       "      <td>NaN</td>\n",
       "      <td>NaN</td>\n",
       "      <td>NaN</td>\n",
       "      <td>NaT</td>\n",
       "      <td>NaT</td>\n",
       "      <td>...</td>\n",
       "      <td>NaN</td>\n",
       "      <td>NaN</td>\n",
       "      <td>NaN</td>\n",
       "      <td>NaN</td>\n",
       "      <td>NaN</td>\n",
       "      <td>NaN</td>\n",
       "      <td>NaN</td>\n",
       "      <td>NaN</td>\n",
       "      <td>NaN</td>\n",
       "      <td>PARALISADA</td>\n",
       "    </tr>\n",
       "    <tr>\n",
       "      <th>224225</th>\n",
       "      <td>53085000</td>\n",
       "      <td>5300108</td>\n",
       "      <td>530010805</td>\n",
       "      <td>NaN</td>\n",
       "      <td>NaN</td>\n",
       "      <td>NaN</td>\n",
       "      <td>NaN</td>\n",
       "      <td>NaN</td>\n",
       "      <td>2020-01-27</td>\n",
       "      <td>2020-12-23</td>\n",
       "      <td>...</td>\n",
       "      <td>NÃO</td>\n",
       "      <td>NÃO</td>\n",
       "      <td>NÃO</td>\n",
       "      <td>NaN</td>\n",
       "      <td>PRÓPRIO</td>\n",
       "      <td>SIM</td>\n",
       "      <td>A CABO E WIRELESS</td>\n",
       "      <td>SIM</td>\n",
       "      <td>ESTADUAL</td>\n",
       "      <td>EM ATIVIDADE</td>\n",
       "    </tr>\n",
       "    <tr>\n",
       "      <th>224226</th>\n",
       "      <td>53086007</td>\n",
       "      <td>5300108</td>\n",
       "      <td>530010805</td>\n",
       "      <td>NaN</td>\n",
       "      <td>NaN</td>\n",
       "      <td>NaN</td>\n",
       "      <td>NaN</td>\n",
       "      <td>NaN</td>\n",
       "      <td>2020-01-27</td>\n",
       "      <td>2020-12-18</td>\n",
       "      <td>...</td>\n",
       "      <td>NÃO</td>\n",
       "      <td>NÃO</td>\n",
       "      <td>NÃO</td>\n",
       "      <td>NaN</td>\n",
       "      <td>ALUGADO</td>\n",
       "      <td>NÃO</td>\n",
       "      <td>A CABO</td>\n",
       "      <td>SIM</td>\n",
       "      <td>ESTADUAL</td>\n",
       "      <td>EM ATIVIDADE</td>\n",
       "    </tr>\n",
       "    <tr>\n",
       "      <th>224227</th>\n",
       "      <td>53087003</td>\n",
       "      <td>5300108</td>\n",
       "      <td>530010805</td>\n",
       "      <td>NaN</td>\n",
       "      <td>NaN</td>\n",
       "      <td>NaN</td>\n",
       "      <td>NaN</td>\n",
       "      <td>NaN</td>\n",
       "      <td>NaT</td>\n",
       "      <td>NaT</td>\n",
       "      <td>...</td>\n",
       "      <td>NaN</td>\n",
       "      <td>NaN</td>\n",
       "      <td>NaN</td>\n",
       "      <td>NaN</td>\n",
       "      <td>NaN</td>\n",
       "      <td>NaN</td>\n",
       "      <td>NaN</td>\n",
       "      <td>NaN</td>\n",
       "      <td>NaN</td>\n",
       "      <td>PARALISADA</td>\n",
       "    </tr>\n",
       "    <tr>\n",
       "      <th>224228</th>\n",
       "      <td>53088034</td>\n",
       "      <td>5300108</td>\n",
       "      <td>530010805</td>\n",
       "      <td>NaN</td>\n",
       "      <td>NaN</td>\n",
       "      <td>NaN</td>\n",
       "      <td>NaN</td>\n",
       "      <td>NaN</td>\n",
       "      <td>NaT</td>\n",
       "      <td>NaT</td>\n",
       "      <td>...</td>\n",
       "      <td>NaN</td>\n",
       "      <td>NaN</td>\n",
       "      <td>NaN</td>\n",
       "      <td>NaN</td>\n",
       "      <td>NaN</td>\n",
       "      <td>NaN</td>\n",
       "      <td>NaN</td>\n",
       "      <td>NaN</td>\n",
       "      <td>NaN</td>\n",
       "      <td>PARALISADA</td>\n",
       "    </tr>\n",
       "  </tbody>\n",
       "</table>\n",
       "<p>224229 rows × 234 columns</p>\n",
       "</div>"
      ],
      "text/plain": [
       "        ID_ESCOLA  CO_MUNICIPIO  CO_DISTRITO  CO_ESCOLA_SEDE_VINCULADA  \\\n",
       "0        11000023       1100205    110020505                       NaN   \n",
       "1        11000040       1100205    110020505                       NaN   \n",
       "2        11000058       1100205    110020505                       NaN   \n",
       "3        11000082       1100205    110020505                       NaN   \n",
       "4        11000104       1100205    110020505                       NaN   \n",
       "...           ...           ...          ...                       ...   \n",
       "224224   53084071       5300108    530010805                       NaN   \n",
       "224225   53085000       5300108    530010805                       NaN   \n",
       "224226   53086007       5300108    530010805                       NaN   \n",
       "224227   53087003       5300108    530010805                       NaN   \n",
       "224228   53088034       5300108    530010805                       NaN   \n",
       "\n",
       "        CO_IES_OFERTANTE  CO_LINGUA_INDIGENA_1  CO_LINGUA_INDIGENA_2  \\\n",
       "0                    NaN                   NaN                   NaN   \n",
       "1                    NaN                   NaN                   NaN   \n",
       "2                    NaN                   NaN                   NaN   \n",
       "3                    NaN                   NaN                   NaN   \n",
       "4                    NaN                   NaN                   NaN   \n",
       "...                  ...                   ...                   ...   \n",
       "224224               NaN                   NaN                   NaN   \n",
       "224225               NaN                   NaN                   NaN   \n",
       "224226               NaN                   NaN                   NaN   \n",
       "224227               NaN                   NaN                   NaN   \n",
       "224228               NaN                   NaN                   NaN   \n",
       "\n",
       "        CO_LINGUA_INDIGENA_3 DT_ANO_LETIVO_INICIO DT_ANO_LETIVO_TERMINO  ...  \\\n",
       "0                        NaN           2020-02-06            2020-12-15  ...   \n",
       "1                        NaN           2020-02-06            2020-12-23  ...   \n",
       "2                        NaN           2020-02-03            2020-12-11  ...   \n",
       "3                        NaN           2020-02-03            2020-12-04  ...   \n",
       "4                        NaN           2020-02-03            2020-12-15  ...   \n",
       "...                      ...                  ...                   ...  ...   \n",
       "224224                   NaN                  NaT                   NaT  ...   \n",
       "224225                   NaN           2020-01-27            2020-12-23  ...   \n",
       "224226                   NaN           2020-01-27            2020-12-18  ...   \n",
       "224227                   NaN                  NaT                   NaT  ...   \n",
       "224228                   NaN                  NaT                   NaT  ...   \n",
       "\n",
       "        TP_MANT_ESCOLA_PRIVADA_SIST_S  TP_MANT_ESCOLA_PRIVADA_S_FINS  \\\n",
       "0                             PÚBLICA                        PÚBLICA   \n",
       "1                             PÚBLICA                        PÚBLICA   \n",
       "2                                 NÃO                            NÃO   \n",
       "3                                 NÃO                            NÃO   \n",
       "4                                 NÃO                            NÃO   \n",
       "...                               ...                            ...   \n",
       "224224                            NaN                            NaN   \n",
       "224225                            NÃO                            NÃO   \n",
       "224226                            NÃO                            NÃO   \n",
       "224227                            NaN                            NaN   \n",
       "224228                            NaN                            NaN   \n",
       "\n",
       "        TP_MANT_ESCOLA_PRIV_ONG_OSCIP  TP_OCUPACAO_GALPAO  \\\n",
       "0                             PÚBLICA                 NaN   \n",
       "1                             PÚBLICA                 NaN   \n",
       "2                                 NÃO                 NaN   \n",
       "3                                 NÃO                 NaN   \n",
       "4                                 NÃO                 NaN   \n",
       "...                               ...                 ...   \n",
       "224224                            NaN                 NaN   \n",
       "224225                            NÃO                 NaN   \n",
       "224226                            NÃO                 NaN   \n",
       "224227                            NaN                 NaN   \n",
       "224228                            NaN                 NaN   \n",
       "\n",
       "        TP_OCUPACAO_PREDIO_ESCOLAR  TP_PROPOSTA_PEDAGOGICA  \\\n",
       "0                          ALUGADO                     SIM   \n",
       "1                          PRÓPRIO                     SIM   \n",
       "2                          PRÓPRIO                     SIM   \n",
       "3                          PRÓPRIO                     SIM   \n",
       "4                          PRÓPRIO                     SIM   \n",
       "...                            ...                     ...   \n",
       "224224                         NaN                     NaN   \n",
       "224225                     PRÓPRIO                     SIM   \n",
       "224226                     ALUGADO                     NÃO   \n",
       "224227                         NaN                     NaN   \n",
       "224228                         NaN                     NaN   \n",
       "\n",
       "                                      TP_REDE_LOCAL  TP_REGULAMENTACAO  \\\n",
       "0                                          WIRELESS                NÃO   \n",
       "1       NÃO HÁ REDE LOCAL INTERLIGANDO COMPUTADORES                SIM   \n",
       "2                                 A CABO E WIRELESS                SIM   \n",
       "3                                          WIRELESS                SIM   \n",
       "4                                 A CABO E WIRELESS                SIM   \n",
       "...                                             ...                ...   \n",
       "224224                                          NaN                NaN   \n",
       "224225                            A CABO E WIRELESS                SIM   \n",
       "224226                                       A CABO                SIM   \n",
       "224227                                          NaN                NaN   \n",
       "224228                                          NaN                NaN   \n",
       "\n",
       "        TP_RESPONSAVEL_REGULAMENTACAO  TP_SITUACAO_FUNCIONAMENTO  \n",
       "0                                 NaN               EM ATIVIDADE  \n",
       "1                           MUNICIPAL               EM ATIVIDADE  \n",
       "2                            ESTADUAL               EM ATIVIDADE  \n",
       "3                            ESTADUAL               EM ATIVIDADE  \n",
       "4                            ESTADUAL               EM ATIVIDADE  \n",
       "...                               ...                        ...  \n",
       "224224                            NaN                 PARALISADA  \n",
       "224225                       ESTADUAL               EM ATIVIDADE  \n",
       "224226                       ESTADUAL               EM ATIVIDADE  \n",
       "224227                            NaN                 PARALISADA  \n",
       "224228                            NaN                 PARALISADA  \n",
       "\n",
       "[224229 rows x 234 columns]"
      ]
     },
     "execution_count": 6,
     "metadata": {},
     "output_type": "execute_result"
    }
   ],
   "source": [
    "df1"
   ]
  },
  {
   "cell_type": "code",
   "execution_count": null,
   "id": "86fbdef7",
   "metadata": {},
   "outputs": [],
   "source": []
  }
 ],
 "metadata": {
  "kernelspec": {
   "display_name": "Python 3 (ipykernel)",
   "language": "python",
   "name": "python3"
  },
  "language_info": {
   "codemirror_mode": {
    "name": "ipython",
    "version": 3
   },
   "file_extension": ".py",
   "mimetype": "text/x-python",
   "name": "python",
   "nbconvert_exporter": "python",
   "pygments_lexer": "ipython3",
   "version": "3.9.7"
  }
 },
 "nbformat": 4,
 "nbformat_minor": 5
}
